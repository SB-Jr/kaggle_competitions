{
 "cells": [
  {
   "cell_type": "markdown",
   "metadata": {
    "toc": true
   },
   "source": [
    "<h1>Table of Contents<span class=\"tocSkip\"></span></h1>\n",
    "<div class=\"toc\"><ul class=\"toc-item\"><li><span><a href=\"#Creating-models\" data-toc-modified-id=\"Creating-models-1\"><span class=\"toc-item-num\">1&nbsp;&nbsp;</span>Creating models</a></span><ul class=\"toc-item\"><li><span><a href=\"#Define-a-pipeline\" data-toc-modified-id=\"Define-a-pipeline-1.1\"><span class=\"toc-item-num\">1.1&nbsp;&nbsp;</span>Define a pipeline</a></span></li><li><span><a href=\"#Create-a-benchmark-model\" data-toc-modified-id=\"Create-a-benchmark-model-1.2\"><span class=\"toc-item-num\">1.2&nbsp;&nbsp;</span>Create a benchmark model</a></span></li><li><span><a href=\"#Tune-Model/Try-different-models\" data-toc-modified-id=\"Tune-Model/Try-different-models-1.3\"><span class=\"toc-item-num\">1.3&nbsp;&nbsp;</span>Tune Model/Try different models</a></span></li><li><span><a href=\"#XGBoost\" data-toc-modified-id=\"XGBoost-1.4\"><span class=\"toc-item-num\">1.4&nbsp;&nbsp;</span>XGBoost</a></span></li><li><span><a href=\"#Data-Leakage\" data-toc-modified-id=\"Data-Leakage-1.5\"><span class=\"toc-item-num\">1.5&nbsp;&nbsp;</span>Data Leakage</a></span></li></ul></li></ul></div>"
   ]
  },
  {
   "cell_type": "markdown",
   "metadata": {},
   "source": [
    "# Creating models"
   ]
  },
  {
   "cell_type": "markdown",
   "metadata": {},
   "source": [
    "## Define a pipeline"
   ]
  },
  {
   "cell_type": "markdown",
   "metadata": {},
   "source": [
    "## Create a benchmark model"
   ]
  },
  {
   "cell_type": "markdown",
   "metadata": {},
   "source": [
    "## Tune Model/Try different models"
   ]
  },
  {
   "cell_type": "markdown",
   "metadata": {},
   "source": [
    "## XGBoost"
   ]
  },
  {
   "cell_type": "markdown",
   "metadata": {},
   "source": [
    "## Data Leakage"
   ]
  },
  {
   "cell_type": "code",
   "execution_count": null,
   "metadata": {},
   "outputs": [],
   "source": []
  }
 ],
 "metadata": {
  "kernelspec": {
   "display_name": "Python 3",
   "language": "python",
   "name": "python3"
  },
  "language_info": {
   "codemirror_mode": {
    "name": "ipython",
    "version": 3
   },
   "file_extension": ".py",
   "mimetype": "text/x-python",
   "name": "python",
   "nbconvert_exporter": "python",
   "pygments_lexer": "ipython3",
   "version": "3.7.6"
  },
  "toc": {
   "base_numbering": 1,
   "nav_menu": {},
   "number_sections": true,
   "sideBar": true,
   "skip_h1_title": false,
   "title_cell": "Table of Contents",
   "title_sidebar": "Contents",
   "toc_cell": true,
   "toc_position": {},
   "toc_section_display": true,
   "toc_window_display": true
  },
  "varInspector": {
   "cols": {
    "lenName": 16,
    "lenType": 16,
    "lenVar": 40
   },
   "kernels_config": {
    "python": {
     "delete_cmd_postfix": "",
     "delete_cmd_prefix": "del ",
     "library": "var_list.py",
     "varRefreshCmd": "print(var_dic_list())"
    },
    "r": {
     "delete_cmd_postfix": ") ",
     "delete_cmd_prefix": "rm(",
     "library": "var_list.r",
     "varRefreshCmd": "cat(var_dic_list()) "
    }
   },
   "types_to_exclude": [
    "module",
    "function",
    "builtin_function_or_method",
    "instance",
    "_Feature"
   ],
   "window_display": false
  }
 },
 "nbformat": 4,
 "nbformat_minor": 4
}
