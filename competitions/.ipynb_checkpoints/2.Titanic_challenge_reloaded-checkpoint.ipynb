{
 "cells": [
  {
   "cell_type": "markdown",
   "metadata": {
    "toc": true
   },
   "source": [
    "<h1>Table of Contents<span class=\"tocSkip\"></span></h1>\n",
    "<div class=\"toc\"><ul class=\"toc-item\"><li><span><a href=\"#Data-preprocessing\" data-toc-modified-id=\"Data-preprocessing-1\"><span class=\"toc-item-num\">1&nbsp;&nbsp;</span>Data preprocessing</a></span><ul class=\"toc-item\"><li><span><a href=\"#Null-values-data\" data-toc-modified-id=\"Null-values-data-1.1\"><span class=\"toc-item-num\">1.1&nbsp;&nbsp;</span>Null values data</a></span></li><li><span><a href=\"#Finding-categorical-columns\" data-toc-modified-id=\"Finding-categorical-columns-1.2\"><span class=\"toc-item-num\">1.2&nbsp;&nbsp;</span>Finding categorical columns</a></span></li><li><span><a href=\"#Feature-engineering\" data-toc-modified-id=\"Feature-engineering-1.3\"><span class=\"toc-item-num\">1.3&nbsp;&nbsp;</span>Feature engineering</a></span><ul class=\"toc-item\"><li><span><a href=\"#Fixing-Age\" data-toc-modified-id=\"Fixing-Age-1.3.1\"><span class=\"toc-item-num\">1.3.1&nbsp;&nbsp;</span>Fixing Age</a></span></li><li><span><a href=\"#Fixing-Fare\" data-toc-modified-id=\"Fixing-Fare-1.3.2\"><span class=\"toc-item-num\">1.3.2&nbsp;&nbsp;</span>Fixing Fare</a></span></li><li><span><a href=\"#Fixing-Cabin\" data-toc-modified-id=\"Fixing-Cabin-1.3.3\"><span class=\"toc-item-num\">1.3.3&nbsp;&nbsp;</span>Fixing Cabin</a></span></li><li><span><a href=\"#Combining-SibSp-and-Parch\" data-toc-modified-id=\"Combining-SibSp-and-Parch-1.3.4\"><span class=\"toc-item-num\">1.3.4&nbsp;&nbsp;</span>Combining SibSp and Parch</a></span></li><li><span><a href=\"#Fixing-Name\" data-toc-modified-id=\"Fixing-Name-1.3.5\"><span class=\"toc-item-num\">1.3.5&nbsp;&nbsp;</span>Fixing Name</a></span></li><li><span><a href=\"#Cleaning-the-Dataframe\" data-toc-modified-id=\"Cleaning-the-Dataframe-1.3.6\"><span class=\"toc-item-num\">1.3.6&nbsp;&nbsp;</span>Cleaning the Dataframe</a></span></li></ul></li></ul></li><li><span><a href=\"#Data-visualization\" data-toc-modified-id=\"Data-visualization-2\"><span class=\"toc-item-num\">2&nbsp;&nbsp;</span>Data visualization</a></span></li><li><span><a href=\"#Model-Creation\" data-toc-modified-id=\"Model-Creation-3\"><span class=\"toc-item-num\">3&nbsp;&nbsp;</span>Model Creation</a></span><ul class=\"toc-item\"><li><span><a href=\"#Logistic-regression\" data-toc-modified-id=\"Logistic-regression-3.1\"><span class=\"toc-item-num\">3.1&nbsp;&nbsp;</span>Logistic regression</a></span></li><li><span><a href=\"#Deep-Dense-network\" data-toc-modified-id=\"Deep-Dense-network-3.2\"><span class=\"toc-item-num\">3.2&nbsp;&nbsp;</span>Deep Dense network</a></span></li></ul></li></ul></div>"
   ]
  },
  {
   "cell_type": "code",
   "execution_count": 1,
   "metadata": {
    "ExecuteTime": {
     "end_time": "2020-05-18T12:31:48.368999Z",
     "start_time": "2020-05-18T12:31:47.491707Z"
    }
   },
   "outputs": [],
   "source": [
    "import pandas as pd\n",
    "import matplotlib.pyplot as plt\n",
    "import seaborn as sns"
   ]
  },
  {
   "cell_type": "code",
   "execution_count": 3,
   "metadata": {
    "ExecuteTime": {
     "end_time": "2020-05-18T12:32:01.738319Z",
     "start_time": "2020-05-18T12:32:01.735671Z"
    }
   },
   "outputs": [],
   "source": [
    "data_path = '../data/titanic_data/train.csv'\n",
    "test_path = '../data/titanic_data/test.csv'"
   ]
  },
  {
   "cell_type": "code",
   "execution_count": 5,
   "metadata": {
    "ExecuteTime": {
     "end_time": "2020-05-18T12:32:33.322104Z",
     "start_time": "2020-05-18T12:32:33.287249Z"
    }
   },
   "outputs": [],
   "source": [
    "data = pd.read_csv(data_path)\n",
    "data = data.set_index('PassengerId')\n",
    "test = pd.read_csv(test_path, index_col='PassengerId')"
   ]
  },
  {
   "cell_type": "code",
   "execution_count": 6,
   "metadata": {
    "ExecuteTime": {
     "end_time": "2020-05-18T12:32:36.242789Z",
     "start_time": "2020-05-18T12:32:36.227490Z"
    }
   },
   "outputs": [
    {
     "data": {
      "text/html": [
       "<div>\n",
       "<style scoped>\n",
       "    .dataframe tbody tr th:only-of-type {\n",
       "        vertical-align: middle;\n",
       "    }\n",
       "\n",
       "    .dataframe tbody tr th {\n",
       "        vertical-align: top;\n",
       "    }\n",
       "\n",
       "    .dataframe thead th {\n",
       "        text-align: right;\n",
       "    }\n",
       "</style>\n",
       "<table border=\"1\" class=\"dataframe\">\n",
       "  <thead>\n",
       "    <tr style=\"text-align: right;\">\n",
       "      <th></th>\n",
       "      <th>Survived</th>\n",
       "      <th>Pclass</th>\n",
       "      <th>Name</th>\n",
       "      <th>Sex</th>\n",
       "      <th>Age</th>\n",
       "      <th>SibSp</th>\n",
       "      <th>Parch</th>\n",
       "      <th>Ticket</th>\n",
       "      <th>Fare</th>\n",
       "      <th>Cabin</th>\n",
       "      <th>Embarked</th>\n",
       "    </tr>\n",
       "    <tr>\n",
       "      <th>PassengerId</th>\n",
       "      <th></th>\n",
       "      <th></th>\n",
       "      <th></th>\n",
       "      <th></th>\n",
       "      <th></th>\n",
       "      <th></th>\n",
       "      <th></th>\n",
       "      <th></th>\n",
       "      <th></th>\n",
       "      <th></th>\n",
       "      <th></th>\n",
       "    </tr>\n",
       "  </thead>\n",
       "  <tbody>\n",
       "    <tr>\n",
       "      <th>1</th>\n",
       "      <td>0</td>\n",
       "      <td>3</td>\n",
       "      <td>Braund, Mr. Owen Harris</td>\n",
       "      <td>male</td>\n",
       "      <td>22.0</td>\n",
       "      <td>1</td>\n",
       "      <td>0</td>\n",
       "      <td>A/5 21171</td>\n",
       "      <td>7.2500</td>\n",
       "      <td>NaN</td>\n",
       "      <td>S</td>\n",
       "    </tr>\n",
       "    <tr>\n",
       "      <th>2</th>\n",
       "      <td>1</td>\n",
       "      <td>1</td>\n",
       "      <td>Cumings, Mrs. John Bradley (Florence Briggs Th...</td>\n",
       "      <td>female</td>\n",
       "      <td>38.0</td>\n",
       "      <td>1</td>\n",
       "      <td>0</td>\n",
       "      <td>PC 17599</td>\n",
       "      <td>71.2833</td>\n",
       "      <td>C85</td>\n",
       "      <td>C</td>\n",
       "    </tr>\n",
       "    <tr>\n",
       "      <th>3</th>\n",
       "      <td>1</td>\n",
       "      <td>3</td>\n",
       "      <td>Heikkinen, Miss. Laina</td>\n",
       "      <td>female</td>\n",
       "      <td>26.0</td>\n",
       "      <td>0</td>\n",
       "      <td>0</td>\n",
       "      <td>STON/O2. 3101282</td>\n",
       "      <td>7.9250</td>\n",
       "      <td>NaN</td>\n",
       "      <td>S</td>\n",
       "    </tr>\n",
       "    <tr>\n",
       "      <th>4</th>\n",
       "      <td>1</td>\n",
       "      <td>1</td>\n",
       "      <td>Futrelle, Mrs. Jacques Heath (Lily May Peel)</td>\n",
       "      <td>female</td>\n",
       "      <td>35.0</td>\n",
       "      <td>1</td>\n",
       "      <td>0</td>\n",
       "      <td>113803</td>\n",
       "      <td>53.1000</td>\n",
       "      <td>C123</td>\n",
       "      <td>S</td>\n",
       "    </tr>\n",
       "    <tr>\n",
       "      <th>5</th>\n",
       "      <td>0</td>\n",
       "      <td>3</td>\n",
       "      <td>Allen, Mr. William Henry</td>\n",
       "      <td>male</td>\n",
       "      <td>35.0</td>\n",
       "      <td>0</td>\n",
       "      <td>0</td>\n",
       "      <td>373450</td>\n",
       "      <td>8.0500</td>\n",
       "      <td>NaN</td>\n",
       "      <td>S</td>\n",
       "    </tr>\n",
       "  </tbody>\n",
       "</table>\n",
       "</div>"
      ],
      "text/plain": [
       "             Survived  Pclass  \\\n",
       "PassengerId                     \n",
       "1                   0       3   \n",
       "2                   1       1   \n",
       "3                   1       3   \n",
       "4                   1       1   \n",
       "5                   0       3   \n",
       "\n",
       "                                                          Name     Sex   Age  \\\n",
       "PassengerId                                                                    \n",
       "1                                      Braund, Mr. Owen Harris    male  22.0   \n",
       "2            Cumings, Mrs. John Bradley (Florence Briggs Th...  female  38.0   \n",
       "3                                       Heikkinen, Miss. Laina  female  26.0   \n",
       "4                 Futrelle, Mrs. Jacques Heath (Lily May Peel)  female  35.0   \n",
       "5                                     Allen, Mr. William Henry    male  35.0   \n",
       "\n",
       "             SibSp  Parch            Ticket     Fare Cabin Embarked  \n",
       "PassengerId                                                          \n",
       "1                1      0         A/5 21171   7.2500   NaN        S  \n",
       "2                1      0          PC 17599  71.2833   C85        C  \n",
       "3                0      0  STON/O2. 3101282   7.9250   NaN        S  \n",
       "4                1      0            113803  53.1000  C123        S  \n",
       "5                0      0            373450   8.0500   NaN        S  "
      ]
     },
     "execution_count": 6,
     "metadata": {},
     "output_type": "execute_result"
    }
   ],
   "source": [
    "data.head()"
   ]
  },
  {
   "cell_type": "code",
   "execution_count": 7,
   "metadata": {
    "ExecuteTime": {
     "end_time": "2020-05-18T12:32:47.520787Z",
     "start_time": "2020-05-18T12:32:47.507167Z"
    }
   },
   "outputs": [
    {
     "data": {
      "text/html": [
       "<div>\n",
       "<style scoped>\n",
       "    .dataframe tbody tr th:only-of-type {\n",
       "        vertical-align: middle;\n",
       "    }\n",
       "\n",
       "    .dataframe tbody tr th {\n",
       "        vertical-align: top;\n",
       "    }\n",
       "\n",
       "    .dataframe thead th {\n",
       "        text-align: right;\n",
       "    }\n",
       "</style>\n",
       "<table border=\"1\" class=\"dataframe\">\n",
       "  <thead>\n",
       "    <tr style=\"text-align: right;\">\n",
       "      <th></th>\n",
       "      <th>Pclass</th>\n",
       "      <th>Name</th>\n",
       "      <th>Sex</th>\n",
       "      <th>Age</th>\n",
       "      <th>SibSp</th>\n",
       "      <th>Parch</th>\n",
       "      <th>Ticket</th>\n",
       "      <th>Fare</th>\n",
       "      <th>Cabin</th>\n",
       "      <th>Embarked</th>\n",
       "    </tr>\n",
       "    <tr>\n",
       "      <th>PassengerId</th>\n",
       "      <th></th>\n",
       "      <th></th>\n",
       "      <th></th>\n",
       "      <th></th>\n",
       "      <th></th>\n",
       "      <th></th>\n",
       "      <th></th>\n",
       "      <th></th>\n",
       "      <th></th>\n",
       "      <th></th>\n",
       "    </tr>\n",
       "  </thead>\n",
       "  <tbody>\n",
       "    <tr>\n",
       "      <th>892</th>\n",
       "      <td>3</td>\n",
       "      <td>Kelly, Mr. James</td>\n",
       "      <td>male</td>\n",
       "      <td>34.5</td>\n",
       "      <td>0</td>\n",
       "      <td>0</td>\n",
       "      <td>330911</td>\n",
       "      <td>7.8292</td>\n",
       "      <td>NaN</td>\n",
       "      <td>Q</td>\n",
       "    </tr>\n",
       "    <tr>\n",
       "      <th>893</th>\n",
       "      <td>3</td>\n",
       "      <td>Wilkes, Mrs. James (Ellen Needs)</td>\n",
       "      <td>female</td>\n",
       "      <td>47.0</td>\n",
       "      <td>1</td>\n",
       "      <td>0</td>\n",
       "      <td>363272</td>\n",
       "      <td>7.0000</td>\n",
       "      <td>NaN</td>\n",
       "      <td>S</td>\n",
       "    </tr>\n",
       "    <tr>\n",
       "      <th>894</th>\n",
       "      <td>2</td>\n",
       "      <td>Myles, Mr. Thomas Francis</td>\n",
       "      <td>male</td>\n",
       "      <td>62.0</td>\n",
       "      <td>0</td>\n",
       "      <td>0</td>\n",
       "      <td>240276</td>\n",
       "      <td>9.6875</td>\n",
       "      <td>NaN</td>\n",
       "      <td>Q</td>\n",
       "    </tr>\n",
       "    <tr>\n",
       "      <th>895</th>\n",
       "      <td>3</td>\n",
       "      <td>Wirz, Mr. Albert</td>\n",
       "      <td>male</td>\n",
       "      <td>27.0</td>\n",
       "      <td>0</td>\n",
       "      <td>0</td>\n",
       "      <td>315154</td>\n",
       "      <td>8.6625</td>\n",
       "      <td>NaN</td>\n",
       "      <td>S</td>\n",
       "    </tr>\n",
       "    <tr>\n",
       "      <th>896</th>\n",
       "      <td>3</td>\n",
       "      <td>Hirvonen, Mrs. Alexander (Helga E Lindqvist)</td>\n",
       "      <td>female</td>\n",
       "      <td>22.0</td>\n",
       "      <td>1</td>\n",
       "      <td>1</td>\n",
       "      <td>3101298</td>\n",
       "      <td>12.2875</td>\n",
       "      <td>NaN</td>\n",
       "      <td>S</td>\n",
       "    </tr>\n",
       "  </tbody>\n",
       "</table>\n",
       "</div>"
      ],
      "text/plain": [
       "             Pclass                                          Name     Sex  \\\n",
       "PassengerId                                                                 \n",
       "892               3                              Kelly, Mr. James    male   \n",
       "893               3              Wilkes, Mrs. James (Ellen Needs)  female   \n",
       "894               2                     Myles, Mr. Thomas Francis    male   \n",
       "895               3                              Wirz, Mr. Albert    male   \n",
       "896               3  Hirvonen, Mrs. Alexander (Helga E Lindqvist)  female   \n",
       "\n",
       "              Age  SibSp  Parch   Ticket     Fare Cabin Embarked  \n",
       "PassengerId                                                       \n",
       "892          34.5      0      0   330911   7.8292   NaN        Q  \n",
       "893          47.0      1      0   363272   7.0000   NaN        S  \n",
       "894          62.0      0      0   240276   9.6875   NaN        Q  \n",
       "895          27.0      0      0   315154   8.6625   NaN        S  \n",
       "896          22.0      1      1  3101298  12.2875   NaN        S  "
      ]
     },
     "execution_count": 7,
     "metadata": {},
     "output_type": "execute_result"
    }
   ],
   "source": [
    "test.head()"
   ]
  },
  {
   "cell_type": "code",
   "execution_count": 9,
   "metadata": {
    "ExecuteTime": {
     "end_time": "2020-05-18T12:33:53.084471Z",
     "start_time": "2020-05-18T12:33:53.050331Z"
    }
   },
   "outputs": [],
   "source": [
    "all_data = pd.concat([data,test])"
   ]
  },
  {
   "cell_type": "code",
   "execution_count": 10,
   "metadata": {
    "ExecuteTime": {
     "end_time": "2020-05-18T12:34:01.657947Z",
     "start_time": "2020-05-18T12:34:01.643178Z"
    }
   },
   "outputs": [
    {
     "data": {
      "text/html": [
       "<div>\n",
       "<style scoped>\n",
       "    .dataframe tbody tr th:only-of-type {\n",
       "        vertical-align: middle;\n",
       "    }\n",
       "\n",
       "    .dataframe tbody tr th {\n",
       "        vertical-align: top;\n",
       "    }\n",
       "\n",
       "    .dataframe thead th {\n",
       "        text-align: right;\n",
       "    }\n",
       "</style>\n",
       "<table border=\"1\" class=\"dataframe\">\n",
       "  <thead>\n",
       "    <tr style=\"text-align: right;\">\n",
       "      <th></th>\n",
       "      <th>Survived</th>\n",
       "      <th>Pclass</th>\n",
       "      <th>Name</th>\n",
       "      <th>Sex</th>\n",
       "      <th>Age</th>\n",
       "      <th>SibSp</th>\n",
       "      <th>Parch</th>\n",
       "      <th>Ticket</th>\n",
       "      <th>Fare</th>\n",
       "      <th>Cabin</th>\n",
       "      <th>Embarked</th>\n",
       "    </tr>\n",
       "    <tr>\n",
       "      <th>PassengerId</th>\n",
       "      <th></th>\n",
       "      <th></th>\n",
       "      <th></th>\n",
       "      <th></th>\n",
       "      <th></th>\n",
       "      <th></th>\n",
       "      <th></th>\n",
       "      <th></th>\n",
       "      <th></th>\n",
       "      <th></th>\n",
       "      <th></th>\n",
       "    </tr>\n",
       "  </thead>\n",
       "  <tbody>\n",
       "    <tr>\n",
       "      <th>1</th>\n",
       "      <td>0.0</td>\n",
       "      <td>3</td>\n",
       "      <td>Braund, Mr. Owen Harris</td>\n",
       "      <td>male</td>\n",
       "      <td>22.0</td>\n",
       "      <td>1</td>\n",
       "      <td>0</td>\n",
       "      <td>A/5 21171</td>\n",
       "      <td>7.2500</td>\n",
       "      <td>NaN</td>\n",
       "      <td>S</td>\n",
       "    </tr>\n",
       "    <tr>\n",
       "      <th>2</th>\n",
       "      <td>1.0</td>\n",
       "      <td>1</td>\n",
       "      <td>Cumings, Mrs. John Bradley (Florence Briggs Th...</td>\n",
       "      <td>female</td>\n",
       "      <td>38.0</td>\n",
       "      <td>1</td>\n",
       "      <td>0</td>\n",
       "      <td>PC 17599</td>\n",
       "      <td>71.2833</td>\n",
       "      <td>C85</td>\n",
       "      <td>C</td>\n",
       "    </tr>\n",
       "    <tr>\n",
       "      <th>3</th>\n",
       "      <td>1.0</td>\n",
       "      <td>3</td>\n",
       "      <td>Heikkinen, Miss. Laina</td>\n",
       "      <td>female</td>\n",
       "      <td>26.0</td>\n",
       "      <td>0</td>\n",
       "      <td>0</td>\n",
       "      <td>STON/O2. 3101282</td>\n",
       "      <td>7.9250</td>\n",
       "      <td>NaN</td>\n",
       "      <td>S</td>\n",
       "    </tr>\n",
       "    <tr>\n",
       "      <th>4</th>\n",
       "      <td>1.0</td>\n",
       "      <td>1</td>\n",
       "      <td>Futrelle, Mrs. Jacques Heath (Lily May Peel)</td>\n",
       "      <td>female</td>\n",
       "      <td>35.0</td>\n",
       "      <td>1</td>\n",
       "      <td>0</td>\n",
       "      <td>113803</td>\n",
       "      <td>53.1000</td>\n",
       "      <td>C123</td>\n",
       "      <td>S</td>\n",
       "    </tr>\n",
       "    <tr>\n",
       "      <th>5</th>\n",
       "      <td>0.0</td>\n",
       "      <td>3</td>\n",
       "      <td>Allen, Mr. William Henry</td>\n",
       "      <td>male</td>\n",
       "      <td>35.0</td>\n",
       "      <td>0</td>\n",
       "      <td>0</td>\n",
       "      <td>373450</td>\n",
       "      <td>8.0500</td>\n",
       "      <td>NaN</td>\n",
       "      <td>S</td>\n",
       "    </tr>\n",
       "  </tbody>\n",
       "</table>\n",
       "</div>"
      ],
      "text/plain": [
       "             Survived  Pclass  \\\n",
       "PassengerId                     \n",
       "1                 0.0       3   \n",
       "2                 1.0       1   \n",
       "3                 1.0       3   \n",
       "4                 1.0       1   \n",
       "5                 0.0       3   \n",
       "\n",
       "                                                          Name     Sex   Age  \\\n",
       "PassengerId                                                                    \n",
       "1                                      Braund, Mr. Owen Harris    male  22.0   \n",
       "2            Cumings, Mrs. John Bradley (Florence Briggs Th...  female  38.0   \n",
       "3                                       Heikkinen, Miss. Laina  female  26.0   \n",
       "4                 Futrelle, Mrs. Jacques Heath (Lily May Peel)  female  35.0   \n",
       "5                                     Allen, Mr. William Henry    male  35.0   \n",
       "\n",
       "             SibSp  Parch            Ticket     Fare Cabin Embarked  \n",
       "PassengerId                                                          \n",
       "1                1      0         A/5 21171   7.2500   NaN        S  \n",
       "2                1      0          PC 17599  71.2833   C85        C  \n",
       "3                0      0  STON/O2. 3101282   7.9250   NaN        S  \n",
       "4                1      0            113803  53.1000  C123        S  \n",
       "5                0      0            373450   8.0500   NaN        S  "
      ]
     },
     "execution_count": 10,
     "metadata": {},
     "output_type": "execute_result"
    }
   ],
   "source": [
    "all_data.head()"
   ]
  },
  {
   "cell_type": "code",
   "execution_count": 11,
   "metadata": {
    "ExecuteTime": {
     "end_time": "2020-05-18T12:34:13.931803Z",
     "start_time": "2020-05-18T12:34:13.914478Z"
    }
   },
   "outputs": [
    {
     "data": {
      "text/html": [
       "<div>\n",
       "<style scoped>\n",
       "    .dataframe tbody tr th:only-of-type {\n",
       "        vertical-align: middle;\n",
       "    }\n",
       "\n",
       "    .dataframe tbody tr th {\n",
       "        vertical-align: top;\n",
       "    }\n",
       "\n",
       "    .dataframe thead th {\n",
       "        text-align: right;\n",
       "    }\n",
       "</style>\n",
       "<table border=\"1\" class=\"dataframe\">\n",
       "  <thead>\n",
       "    <tr style=\"text-align: right;\">\n",
       "      <th></th>\n",
       "      <th>Survived</th>\n",
       "      <th>Pclass</th>\n",
       "      <th>Name</th>\n",
       "      <th>Sex</th>\n",
       "      <th>Age</th>\n",
       "      <th>SibSp</th>\n",
       "      <th>Parch</th>\n",
       "      <th>Ticket</th>\n",
       "      <th>Fare</th>\n",
       "      <th>Cabin</th>\n",
       "      <th>Embarked</th>\n",
       "    </tr>\n",
       "    <tr>\n",
       "      <th>PassengerId</th>\n",
       "      <th></th>\n",
       "      <th></th>\n",
       "      <th></th>\n",
       "      <th></th>\n",
       "      <th></th>\n",
       "      <th></th>\n",
       "      <th></th>\n",
       "      <th></th>\n",
       "      <th></th>\n",
       "      <th></th>\n",
       "      <th></th>\n",
       "    </tr>\n",
       "  </thead>\n",
       "  <tbody>\n",
       "    <tr>\n",
       "      <th>1305</th>\n",
       "      <td>NaN</td>\n",
       "      <td>3</td>\n",
       "      <td>Spector, Mr. Woolf</td>\n",
       "      <td>male</td>\n",
       "      <td>NaN</td>\n",
       "      <td>0</td>\n",
       "      <td>0</td>\n",
       "      <td>A.5. 3236</td>\n",
       "      <td>8.0500</td>\n",
       "      <td>NaN</td>\n",
       "      <td>S</td>\n",
       "    </tr>\n",
       "    <tr>\n",
       "      <th>1306</th>\n",
       "      <td>NaN</td>\n",
       "      <td>1</td>\n",
       "      <td>Oliva y Ocana, Dona. Fermina</td>\n",
       "      <td>female</td>\n",
       "      <td>39.0</td>\n",
       "      <td>0</td>\n",
       "      <td>0</td>\n",
       "      <td>PC 17758</td>\n",
       "      <td>108.9000</td>\n",
       "      <td>C105</td>\n",
       "      <td>C</td>\n",
       "    </tr>\n",
       "    <tr>\n",
       "      <th>1307</th>\n",
       "      <td>NaN</td>\n",
       "      <td>3</td>\n",
       "      <td>Saether, Mr. Simon Sivertsen</td>\n",
       "      <td>male</td>\n",
       "      <td>38.5</td>\n",
       "      <td>0</td>\n",
       "      <td>0</td>\n",
       "      <td>SOTON/O.Q. 3101262</td>\n",
       "      <td>7.2500</td>\n",
       "      <td>NaN</td>\n",
       "      <td>S</td>\n",
       "    </tr>\n",
       "    <tr>\n",
       "      <th>1308</th>\n",
       "      <td>NaN</td>\n",
       "      <td>3</td>\n",
       "      <td>Ware, Mr. Frederick</td>\n",
       "      <td>male</td>\n",
       "      <td>NaN</td>\n",
       "      <td>0</td>\n",
       "      <td>0</td>\n",
       "      <td>359309</td>\n",
       "      <td>8.0500</td>\n",
       "      <td>NaN</td>\n",
       "      <td>S</td>\n",
       "    </tr>\n",
       "    <tr>\n",
       "      <th>1309</th>\n",
       "      <td>NaN</td>\n",
       "      <td>3</td>\n",
       "      <td>Peter, Master. Michael J</td>\n",
       "      <td>male</td>\n",
       "      <td>NaN</td>\n",
       "      <td>1</td>\n",
       "      <td>1</td>\n",
       "      <td>2668</td>\n",
       "      <td>22.3583</td>\n",
       "      <td>NaN</td>\n",
       "      <td>C</td>\n",
       "    </tr>\n",
       "  </tbody>\n",
       "</table>\n",
       "</div>"
      ],
      "text/plain": [
       "             Survived  Pclass                          Name     Sex   Age  \\\n",
       "PassengerId                                                                 \n",
       "1305              NaN       3            Spector, Mr. Woolf    male   NaN   \n",
       "1306              NaN       1  Oliva y Ocana, Dona. Fermina  female  39.0   \n",
       "1307              NaN       3  Saether, Mr. Simon Sivertsen    male  38.5   \n",
       "1308              NaN       3           Ware, Mr. Frederick    male   NaN   \n",
       "1309              NaN       3      Peter, Master. Michael J    male   NaN   \n",
       "\n",
       "             SibSp  Parch              Ticket      Fare Cabin Embarked  \n",
       "PassengerId                                                             \n",
       "1305             0      0           A.5. 3236    8.0500   NaN        S  \n",
       "1306             0      0            PC 17758  108.9000  C105        C  \n",
       "1307             0      0  SOTON/O.Q. 3101262    7.2500   NaN        S  \n",
       "1308             0      0              359309    8.0500   NaN        S  \n",
       "1309             1      1                2668   22.3583   NaN        C  "
      ]
     },
     "execution_count": 11,
     "metadata": {},
     "output_type": "execute_result"
    }
   ],
   "source": [
    "all_data.tail()"
   ]
  },
  {
   "cell_type": "markdown",
   "metadata": {},
   "source": [
    "# Data preprocessing"
   ]
  },
  {
   "cell_type": "markdown",
   "metadata": {},
   "source": [
    "## Null values data"
   ]
  },
  {
   "cell_type": "code",
   "execution_count": 12,
   "metadata": {
    "ExecuteTime": {
     "end_time": "2020-05-18T12:36:25.677938Z",
     "start_time": "2020-05-18T12:36:25.670717Z"
    }
   },
   "outputs": [
    {
     "data": {
      "text/plain": [
       "Cabin       0.774637\n",
       "Survived    0.319328\n",
       "Age         0.200917\n",
       "Embarked    0.001528\n",
       "Fare        0.000764\n",
       "Ticket      0.000000\n",
       "Parch       0.000000\n",
       "SibSp       0.000000\n",
       "Sex         0.000000\n",
       "Name        0.000000\n",
       "Pclass      0.000000\n",
       "dtype: float64"
      ]
     },
     "execution_count": 12,
     "metadata": {},
     "output_type": "execute_result"
    }
   ],
   "source": [
    "all_data.isnull().mean().sort_values(ascending=False)"
   ]
  },
  {
   "cell_type": "code",
   "execution_count": 15,
   "metadata": {
    "ExecuteTime": {
     "end_time": "2020-05-18T12:39:30.338122Z",
     "start_time": "2020-05-18T12:39:30.330482Z"
    }
   },
   "outputs": [
    {
     "data": {
      "text/plain": [
       "PassengerId\n",
       "1       S\n",
       "2       C\n",
       "3       S\n",
       "4       S\n",
       "5       S\n",
       "       ..\n",
       "1305    S\n",
       "1306    C\n",
       "1307    S\n",
       "1308    S\n",
       "1309    C\n",
       "Name: Embarked, Length: 1309, dtype: object"
      ]
     },
     "execution_count": 15,
     "metadata": {},
     "output_type": "execute_result"
    }
   ],
   "source": [
    "# Lets first handle Embarked column\n",
    "embarked_mode = all_data.Embarked.mode()\n",
    "all_data.Embarked.fillna(embarked_mode)"
   ]
  },
  {
   "cell_type": "markdown",
   "metadata": {},
   "source": [
    "We will later handle 'Fare', 'Age' and 'Cabin'"
   ]
  },
  {
   "cell_type": "markdown",
   "metadata": {},
   "source": [
    "## Finding categorical columns"
   ]
  },
  {
   "cell_type": "code",
   "execution_count": 17,
   "metadata": {
    "ExecuteTime": {
     "end_time": "2020-05-18T12:58:03.222228Z",
     "start_time": "2020-05-18T12:58:03.219821Z"
    }
   },
   "outputs": [],
   "source": [
    "columns = all_data.columns"
   ]
  },
  {
   "cell_type": "code",
   "execution_count": 52,
   "metadata": {
    "ExecuteTime": {
     "end_time": "2020-05-18T13:23:10.804571Z",
     "start_time": "2020-05-18T13:23:10.793781Z"
    }
   },
   "outputs": [
    {
     "name": "stdout",
     "output_type": "stream",
     "text": [
      "Index(['Survived', 'Pclass', 'Name', 'Sex', 'Age', 'SibSp', 'Parch', 'Ticket',\n",
      "       'Fare', 'Cabin', 'Embarked', 'Sex_category', 'Embarked_category',\n",
      "       'Sex_category', 'Embarked_category'],\n",
      "      dtype='object')\n"
     ]
    }
   ],
   "source": [
    "cat_columns = ['Sex', 'Embarked']\n",
    "for col in cat_columns:\n",
    "    all_data[col] = all_data[col].astype('category')\n",
    "    all_data[col+'_category'] = all_data[col].cat.codes\n",
    "    columns = columns.append(pd.Index([col+'_category']))\n",
    "print(columns)"
   ]
  },
  {
   "cell_type": "code",
   "execution_count": 54,
   "metadata": {
    "ExecuteTime": {
     "end_time": "2020-05-18T13:23:17.104092Z",
     "start_time": "2020-05-18T13:23:17.085528Z"
    }
   },
   "outputs": [
    {
     "data": {
      "text/html": [
       "<div>\n",
       "<style scoped>\n",
       "    .dataframe tbody tr th:only-of-type {\n",
       "        vertical-align: middle;\n",
       "    }\n",
       "\n",
       "    .dataframe tbody tr th {\n",
       "        vertical-align: top;\n",
       "    }\n",
       "\n",
       "    .dataframe thead th {\n",
       "        text-align: right;\n",
       "    }\n",
       "</style>\n",
       "<table border=\"1\" class=\"dataframe\">\n",
       "  <thead>\n",
       "    <tr style=\"text-align: right;\">\n",
       "      <th></th>\n",
       "      <th>Survived</th>\n",
       "      <th>Pclass</th>\n",
       "      <th>Name</th>\n",
       "      <th>Sex</th>\n",
       "      <th>Age</th>\n",
       "      <th>SibSp</th>\n",
       "      <th>Parch</th>\n",
       "      <th>Ticket</th>\n",
       "      <th>Fare</th>\n",
       "      <th>Cabin</th>\n",
       "      <th>Embarked</th>\n",
       "      <th>Cabin_name</th>\n",
       "      <th>Sex_category</th>\n",
       "      <th>Embarked_category</th>\n",
       "    </tr>\n",
       "    <tr>\n",
       "      <th>PassengerId</th>\n",
       "      <th></th>\n",
       "      <th></th>\n",
       "      <th></th>\n",
       "      <th></th>\n",
       "      <th></th>\n",
       "      <th></th>\n",
       "      <th></th>\n",
       "      <th></th>\n",
       "      <th></th>\n",
       "      <th></th>\n",
       "      <th></th>\n",
       "      <th></th>\n",
       "      <th></th>\n",
       "      <th></th>\n",
       "    </tr>\n",
       "  </thead>\n",
       "  <tbody>\n",
       "    <tr>\n",
       "      <th>468</th>\n",
       "      <td>0.0</td>\n",
       "      <td>1</td>\n",
       "      <td>Smart, Mr. John Montgomery</td>\n",
       "      <td>male</td>\n",
       "      <td>56.00</td>\n",
       "      <td>0</td>\n",
       "      <td>0</td>\n",
       "      <td>113792</td>\n",
       "      <td>26.5500</td>\n",
       "      <td>U</td>\n",
       "      <td>S</td>\n",
       "      <td>U</td>\n",
       "      <td>1</td>\n",
       "      <td>2</td>\n",
       "    </tr>\n",
       "    <tr>\n",
       "      <th>41</th>\n",
       "      <td>0.0</td>\n",
       "      <td>3</td>\n",
       "      <td>Ahlin, Mrs. Johan (Johanna Persdotter Larsson)</td>\n",
       "      <td>female</td>\n",
       "      <td>40.00</td>\n",
       "      <td>1</td>\n",
       "      <td>0</td>\n",
       "      <td>7546</td>\n",
       "      <td>9.4750</td>\n",
       "      <td>U</td>\n",
       "      <td>S</td>\n",
       "      <td>U</td>\n",
       "      <td>0</td>\n",
       "      <td>2</td>\n",
       "    </tr>\n",
       "    <tr>\n",
       "      <th>1229</th>\n",
       "      <td>NaN</td>\n",
       "      <td>3</td>\n",
       "      <td>Elias, Mr. Joseph</td>\n",
       "      <td>male</td>\n",
       "      <td>39.00</td>\n",
       "      <td>0</td>\n",
       "      <td>2</td>\n",
       "      <td>2675</td>\n",
       "      <td>7.2292</td>\n",
       "      <td>U</td>\n",
       "      <td>C</td>\n",
       "      <td>U</td>\n",
       "      <td>1</td>\n",
       "      <td>0</td>\n",
       "    </tr>\n",
       "    <tr>\n",
       "      <th>857</th>\n",
       "      <td>1.0</td>\n",
       "      <td>1</td>\n",
       "      <td>Wick, Mrs. George Dennick (Mary Hitchcock)</td>\n",
       "      <td>female</td>\n",
       "      <td>45.00</td>\n",
       "      <td>1</td>\n",
       "      <td>1</td>\n",
       "      <td>36928</td>\n",
       "      <td>164.8667</td>\n",
       "      <td>U</td>\n",
       "      <td>S</td>\n",
       "      <td>U</td>\n",
       "      <td>0</td>\n",
       "      <td>2</td>\n",
       "    </tr>\n",
       "    <tr>\n",
       "      <th>1145</th>\n",
       "      <td>NaN</td>\n",
       "      <td>3</td>\n",
       "      <td>Salander, Mr. Karl Johan</td>\n",
       "      <td>male</td>\n",
       "      <td>24.00</td>\n",
       "      <td>0</td>\n",
       "      <td>0</td>\n",
       "      <td>7266</td>\n",
       "      <td>9.3250</td>\n",
       "      <td>U</td>\n",
       "      <td>S</td>\n",
       "      <td>U</td>\n",
       "      <td>1</td>\n",
       "      <td>2</td>\n",
       "    </tr>\n",
       "    <tr>\n",
       "      <th>234</th>\n",
       "      <td>1.0</td>\n",
       "      <td>3</td>\n",
       "      <td>Asplund, Miss. Lillian Gertrud</td>\n",
       "      <td>female</td>\n",
       "      <td>5.00</td>\n",
       "      <td>4</td>\n",
       "      <td>2</td>\n",
       "      <td>347077</td>\n",
       "      <td>31.3875</td>\n",
       "      <td>U</td>\n",
       "      <td>S</td>\n",
       "      <td>U</td>\n",
       "      <td>0</td>\n",
       "      <td>2</td>\n",
       "    </tr>\n",
       "    <tr>\n",
       "      <th>885</th>\n",
       "      <td>0.0</td>\n",
       "      <td>3</td>\n",
       "      <td>Sutehall, Mr. Henry Jr</td>\n",
       "      <td>male</td>\n",
       "      <td>25.00</td>\n",
       "      <td>0</td>\n",
       "      <td>0</td>\n",
       "      <td>SOTON/OQ 392076</td>\n",
       "      <td>7.0500</td>\n",
       "      <td>U</td>\n",
       "      <td>S</td>\n",
       "      <td>U</td>\n",
       "      <td>1</td>\n",
       "      <td>2</td>\n",
       "    </tr>\n",
       "    <tr>\n",
       "      <th>210</th>\n",
       "      <td>1.0</td>\n",
       "      <td>1</td>\n",
       "      <td>Blank, Mr. Henry</td>\n",
       "      <td>male</td>\n",
       "      <td>40.00</td>\n",
       "      <td>0</td>\n",
       "      <td>0</td>\n",
       "      <td>112277</td>\n",
       "      <td>31.0000</td>\n",
       "      <td>A31</td>\n",
       "      <td>C</td>\n",
       "      <td>A</td>\n",
       "      <td>1</td>\n",
       "      <td>0</td>\n",
       "    </tr>\n",
       "    <tr>\n",
       "      <th>1246</th>\n",
       "      <td>NaN</td>\n",
       "      <td>3</td>\n",
       "      <td>Dean, Miss. Elizabeth Gladys Millvina\"\"</td>\n",
       "      <td>female</td>\n",
       "      <td>0.17</td>\n",
       "      <td>1</td>\n",
       "      <td>2</td>\n",
       "      <td>C.A. 2315</td>\n",
       "      <td>20.5750</td>\n",
       "      <td>U</td>\n",
       "      <td>S</td>\n",
       "      <td>U</td>\n",
       "      <td>0</td>\n",
       "      <td>2</td>\n",
       "    </tr>\n",
       "    <tr>\n",
       "      <th>737</th>\n",
       "      <td>0.0</td>\n",
       "      <td>3</td>\n",
       "      <td>Ford, Mrs. Edward (Margaret Ann Watson)</td>\n",
       "      <td>female</td>\n",
       "      <td>48.00</td>\n",
       "      <td>1</td>\n",
       "      <td>3</td>\n",
       "      <td>W./C. 6608</td>\n",
       "      <td>34.3750</td>\n",
       "      <td>U</td>\n",
       "      <td>S</td>\n",
       "      <td>U</td>\n",
       "      <td>0</td>\n",
       "      <td>2</td>\n",
       "    </tr>\n",
       "  </tbody>\n",
       "</table>\n",
       "</div>"
      ],
      "text/plain": [
       "             Survived  Pclass                                            Name  \\\n",
       "PassengerId                                                                     \n",
       "468               0.0       1                      Smart, Mr. John Montgomery   \n",
       "41                0.0       3  Ahlin, Mrs. Johan (Johanna Persdotter Larsson)   \n",
       "1229              NaN       3                               Elias, Mr. Joseph   \n",
       "857               1.0       1      Wick, Mrs. George Dennick (Mary Hitchcock)   \n",
       "1145              NaN       3                        Salander, Mr. Karl Johan   \n",
       "234               1.0       3                  Asplund, Miss. Lillian Gertrud   \n",
       "885               0.0       3                          Sutehall, Mr. Henry Jr   \n",
       "210               1.0       1                                Blank, Mr. Henry   \n",
       "1246              NaN       3         Dean, Miss. Elizabeth Gladys Millvina\"\"   \n",
       "737               0.0       3         Ford, Mrs. Edward (Margaret Ann Watson)   \n",
       "\n",
       "                Sex    Age  SibSp  Parch           Ticket      Fare Cabin  \\\n",
       "PassengerId                                                                 \n",
       "468            male  56.00      0      0           113792   26.5500     U   \n",
       "41           female  40.00      1      0             7546    9.4750     U   \n",
       "1229           male  39.00      0      2             2675    7.2292     U   \n",
       "857          female  45.00      1      1            36928  164.8667     U   \n",
       "1145           male  24.00      0      0             7266    9.3250     U   \n",
       "234          female   5.00      4      2           347077   31.3875     U   \n",
       "885            male  25.00      0      0  SOTON/OQ 392076    7.0500     U   \n",
       "210            male  40.00      0      0           112277   31.0000   A31   \n",
       "1246         female   0.17      1      2        C.A. 2315   20.5750     U   \n",
       "737          female  48.00      1      3       W./C. 6608   34.3750     U   \n",
       "\n",
       "            Embarked Cabin_name  Sex_category  Embarked_category  \n",
       "PassengerId                                                       \n",
       "468                S          U             1                  2  \n",
       "41                 S          U             0                  2  \n",
       "1229               C          U             1                  0  \n",
       "857                S          U             0                  2  \n",
       "1145               S          U             1                  2  \n",
       "234                S          U             0                  2  \n",
       "885                S          U             1                  2  \n",
       "210                C          A             1                  0  \n",
       "1246               S          U             0                  2  \n",
       "737                S          U             0                  2  "
      ]
     },
     "execution_count": 54,
     "metadata": {},
     "output_type": "execute_result"
    }
   ],
   "source": [
    "all_data.sample(10)"
   ]
  },
  {
   "cell_type": "code",
   "execution_count": 55,
   "metadata": {
    "ExecuteTime": {
     "end_time": "2020-05-18T13:23:27.026012Z",
     "start_time": "2020-05-18T13:23:26.562954Z"
    }
   },
   "outputs": [
    {
     "data": {
      "text/plain": [
       "<matplotlib.axes._subplots.AxesSubplot at 0x7ff16f3f87d0>"
      ]
     },
     "execution_count": 55,
     "metadata": {},
     "output_type": "execute_result"
    },
    {
     "data": {
      "image/png": "[encoded data removed]",
      "text/plain": [
       "<Figure size 1440x720 with 2 Axes>"
      ]
     },
     "metadata": {
      "needs_background": "light"
     },
     "output_type": "display_data"
    }
   ],
   "source": [
    "plt.figure(figsize=(20,10))\n",
    "sns.heatmap(all_data.corr(),annot=True, fmt='0.1f', square=True, linewidths=1)"
   ]
  },
  {
   "cell_type": "code",
   "execution_count": 56,
   "metadata": {
    "ExecuteTime": {
     "end_time": "2020-05-18T13:23:41.938855Z",
     "start_time": "2020-05-18T13:23:41.498052Z"
    }
   },
   "outputs": [
    {
     "data": {
      "text/plain": [
       "<matplotlib.axes._subplots.AxesSubplot at 0x7ff16f0ee5d0>"
      ]
     },
     "execution_count": 56,
     "metadata": {},
     "output_type": "execute_result"
    },
    {
     "data": {
      "image/png": "[encoded data removed]",
      "text/plain": [
       "<Figure size 1440x720 with 2 Axes>"
      ]
     },
     "metadata": {
      "needs_background": "light"
     },
     "output_type": "display_data"
    }
   ],
   "source": [
    "plt.figure(figsize=(20,10))\n",
    "sns.heatmap(abs(all_data.corr()),annot=True, fmt='0.1f', square=True, linewidths=1)"
   ]
  },
  {
   "cell_type": "markdown",
   "metadata": {},
   "source": [
    "## Feature engineering"
   ]
  },
  {
   "cell_type": "markdown",
   "metadata": {},
   "source": [
    "We can see that (Pclass, Age) has a high absolute correlation. So we can use Pclass to impute Age missing values."
   ]
  },
  {
   "cell_type": "markdown",
   "metadata": {},
   "source": [
    "### Fixing Age"
   ]
  },
  {
   "cell_type": "code",
   "execution_count": 34,
   "metadata": {
    "ExecuteTime": {
     "end_time": "2020-05-18T13:10:19.220720Z",
     "start_time": "2020-05-18T13:10:19.187297Z"
    }
   },
   "outputs": [
    {
     "data": {
      "text/plain": [
       "Pclass\n",
       "1    39.0\n",
       "2    29.0\n",
       "3    24.0\n",
       "Name: Age, dtype: float64"
      ]
     },
     "execution_count": 34,
     "metadata": {},
     "output_type": "execute_result"
    }
   ],
   "source": [
    "all_data.groupby('Pclass').Age.agg('median')"
   ]
  },
  {
   "cell_type": "markdown",
   "metadata": {},
   "source": [
    "The above data shows the median age of people grouped by each Pclass"
   ]
  },
  {
   "cell_type": "code",
   "execution_count": 35,
   "metadata": {
    "ExecuteTime": {
     "end_time": "2020-05-18T13:10:40.326239Z",
     "start_time": "2020-05-18T13:10:40.292976Z"
    }
   },
   "outputs": [],
   "source": [
    "all_data['Age'] = all_data.groupby('Pclass').Age.transform(lambda x: x.fillna(x.median()))"
   ]
  },
  {
   "cell_type": "code",
   "execution_count": 36,
   "metadata": {
    "ExecuteTime": {
     "end_time": "2020-05-18T13:10:57.560804Z",
     "start_time": "2020-05-18T13:10:57.554811Z"
    }
   },
   "outputs": [
    {
     "data": {
      "text/plain": [
       "0"
      ]
     },
     "execution_count": 36,
     "metadata": {},
     "output_type": "execute_result"
    }
   ],
   "source": [
    "all_data['Age'].isnull().sum()"
   ]
  },
  {
   "cell_type": "markdown",
   "metadata": {},
   "source": [
    "### Fixing Fare"
   ]
  },
  {
   "cell_type": "markdown",
   "metadata": {},
   "source": [
    "Similarly we can see that (Pclass, Fare) has a huge correlation. So using the same method to fillup Fare data."
   ]
  },
  {
   "cell_type": "code",
   "execution_count": 38,
   "metadata": {
    "ExecuteTime": {
     "end_time": "2020-05-18T13:12:23.618378Z",
     "start_time": "2020-05-18T13:12:23.612104Z"
    }
   },
   "outputs": [
    {
     "data": {
      "text/plain": [
       "Pclass\n",
       "1    60.0000\n",
       "2    15.0458\n",
       "3     8.0500\n",
       "Name: Fare, dtype: float64"
      ]
     },
     "execution_count": 38,
     "metadata": {},
     "output_type": "execute_result"
    }
   ],
   "source": [
    "all_data.groupby('Pclass').Fare.median()"
   ]
  },
  {
   "cell_type": "code",
   "execution_count": 39,
   "metadata": {
    "ExecuteTime": {
     "end_time": "2020-05-18T13:13:03.440626Z",
     "start_time": "2020-05-18T13:13:03.432343Z"
    }
   },
   "outputs": [],
   "source": [
    "all_data['Fare'] = all_data.groupby('Pclass').Fare.transform(lambda x: x.fillna(x.median()))"
   ]
  },
  {
   "cell_type": "code",
   "execution_count": 40,
   "metadata": {
    "ExecuteTime": {
     "end_time": "2020-05-18T13:13:17.869143Z",
     "start_time": "2020-05-18T13:13:17.861767Z"
    }
   },
   "outputs": [
    {
     "data": {
      "text/plain": [
       "0"
      ]
     },
     "execution_count": 40,
     "metadata": {},
     "output_type": "execute_result"
    }
   ],
   "source": [
    "all_data.Fare.isnull().sum()"
   ]
  },
  {
   "cell_type": "markdown",
   "metadata": {},
   "source": [
    "### Fixing Cabin"
   ]
  },
  {
   "cell_type": "markdown",
   "metadata": {},
   "source": [
    "For missing values in Cabin we can fill them with 'U' for undefined."
   ]
  },
  {
   "cell_type": "code",
   "execution_count": 41,
   "metadata": {
    "ExecuteTime": {
     "end_time": "2020-05-18T13:15:10.889429Z",
     "start_time": "2020-05-18T13:15:10.885700Z"
    }
   },
   "outputs": [],
   "source": [
    "all_data['Cabin'] = all_data['Cabin'].fillna('U')"
   ]
  },
  {
   "cell_type": "code",
   "execution_count": 42,
   "metadata": {
    "ExecuteTime": {
     "end_time": "2020-05-18T13:15:25.138915Z",
     "start_time": "2020-05-18T13:15:25.134703Z"
    }
   },
   "outputs": [
    {
     "data": {
      "text/plain": [
       "0"
      ]
     },
     "execution_count": 42,
     "metadata": {},
     "output_type": "execute_result"
    }
   ],
   "source": [
    "all_data.Cabin.isnull().sum()"
   ]
  },
  {
   "cell_type": "markdown",
   "metadata": {},
   "source": [
    "Before we move forward lets have a look at the Cabin data and see if we can make sense of it."
   ]
  },
  {
   "cell_type": "code",
   "execution_count": 43,
   "metadata": {
    "ExecuteTime": {
     "end_time": "2020-05-18T13:16:10.622023Z",
     "start_time": "2020-05-18T13:16:10.617393Z"
    }
   },
   "outputs": [
    {
     "data": {
      "text/plain": [
       "array(['U', 'C85', 'C123', 'E46', 'G6', 'C103', 'D56', 'A6',\n",
       "       'C23 C25 C27', 'B78', 'D33', 'B30', 'C52', 'B28', 'C83', 'F33',\n",
       "       'F G73', 'E31', 'A5', 'D10 D12', 'D26', 'C110', 'B58 B60', 'E101',\n",
       "       'F E69', 'D47', 'B86', 'F2', 'C2', 'E33', 'B19', 'A7', 'C49', 'F4',\n",
       "       'A32', 'B4', 'B80', 'A31', 'D36', 'D15', 'C93', 'C78', 'D35',\n",
       "       'C87', 'B77', 'E67', 'B94', 'C125', 'C99', 'C118', 'D7', 'A19',\n",
       "       'B49', 'D', 'C22 C26', 'C106', 'C65', 'E36', 'C54',\n",
       "       'B57 B59 B63 B66', 'C7', 'E34', 'C32', 'B18', 'C124', 'C91', 'E40',\n",
       "       'T', 'C128', 'D37', 'B35', 'E50', 'C82', 'B96 B98', 'E10', 'E44',\n",
       "       'A34', 'C104', 'C111', 'C92', 'E38', 'D21', 'E12', 'E63', 'A14',\n",
       "       'B37', 'C30', 'D20', 'B79', 'E25', 'D46', 'B73', 'C95', 'B38',\n",
       "       'B39', 'B22', 'C86', 'C70', 'A16', 'C101', 'C68', 'A10', 'E68',\n",
       "       'B41', 'A20', 'D19', 'D50', 'D9', 'A23', 'B50', 'A26', 'D48',\n",
       "       'E58', 'C126', 'B71', 'B51 B53 B55', 'D49', 'B5', 'B20', 'F G63',\n",
       "       'C62 C64', 'E24', 'C90', 'C45', 'E8', 'B101', 'D45', 'C46', 'D30',\n",
       "       'E121', 'D11', 'E77', 'F38', 'B3', 'D6', 'B82 B84', 'D17', 'A36',\n",
       "       'B102', 'B69', 'E49', 'C47', 'D28', 'E17', 'A24', 'C50', 'B42',\n",
       "       'C148', 'B45', 'B36', 'A21', 'D34', 'A9', 'C31', 'B61', 'C53',\n",
       "       'D43', 'C130', 'C132', 'C55 C57', 'C116', 'F', 'A29', 'C6', 'C28',\n",
       "       'C51', 'C97', 'D22', 'B10', 'E45', 'E52', 'A11', 'B11', 'C80',\n",
       "       'C89', 'F E46', 'B26', 'F E57', 'A18', 'E60', 'E39 E41',\n",
       "       'B52 B54 B56', 'C39', 'B24', 'D40', 'D38', 'C105'], dtype=object)"
      ]
     },
     "execution_count": 43,
     "metadata": {},
     "output_type": "execute_result"
    }
   ],
   "source": [
    "all_data['Cabin'].unique()"
   ]
  },
  {
   "cell_type": "markdown",
   "metadata": {},
   "source": [
    "What we can understand from this is that the first letter might denote some usefull data like the deck floor value or something. The room numbers can be striped out."
   ]
  },
  {
   "cell_type": "code",
   "execution_count": 46,
   "metadata": {
    "ExecuteTime": {
     "end_time": "2020-05-18T13:20:55.669835Z",
     "start_time": "2020-05-18T13:20:55.664391Z"
    }
   },
   "outputs": [],
   "source": [
    "all_data['Cabin_name'] = all_data['Cabin'].str.extract(r'([a-zA-Z]+)')"
   ]
  },
  {
   "cell_type": "code",
   "execution_count": 48,
   "metadata": {
    "ExecuteTime": {
     "end_time": "2020-05-18T13:21:14.290615Z",
     "start_time": "2020-05-18T13:21:14.273734Z"
    }
   },
   "outputs": [
    {
     "data": {
      "text/html": [
       "<div>\n",
       "<style scoped>\n",
       "    .dataframe tbody tr th:only-of-type {\n",
       "        vertical-align: middle;\n",
       "    }\n",
       "\n",
       "    .dataframe tbody tr th {\n",
       "        vertical-align: top;\n",
       "    }\n",
       "\n",
       "    .dataframe thead th {\n",
       "        text-align: right;\n",
       "    }\n",
       "</style>\n",
       "<table border=\"1\" class=\"dataframe\">\n",
       "  <thead>\n",
       "    <tr style=\"text-align: right;\">\n",
       "      <th></th>\n",
       "      <th>Survived</th>\n",
       "      <th>Pclass</th>\n",
       "      <th>Name</th>\n",
       "      <th>Sex</th>\n",
       "      <th>Age</th>\n",
       "      <th>SibSp</th>\n",
       "      <th>Parch</th>\n",
       "      <th>Ticket</th>\n",
       "      <th>Fare</th>\n",
       "      <th>Cabin</th>\n",
       "      <th>Embarked</th>\n",
       "      <th>Cabin_name</th>\n",
       "    </tr>\n",
       "    <tr>\n",
       "      <th>PassengerId</th>\n",
       "      <th></th>\n",
       "      <th></th>\n",
       "      <th></th>\n",
       "      <th></th>\n",
       "      <th></th>\n",
       "      <th></th>\n",
       "      <th></th>\n",
       "      <th></th>\n",
       "      <th></th>\n",
       "      <th></th>\n",
       "      <th></th>\n",
       "      <th></th>\n",
       "    </tr>\n",
       "  </thead>\n",
       "  <tbody>\n",
       "    <tr>\n",
       "      <th>1</th>\n",
       "      <td>0.0</td>\n",
       "      <td>3</td>\n",
       "      <td>Braund, Mr. Owen Harris</td>\n",
       "      <td>male</td>\n",
       "      <td>22.0</td>\n",
       "      <td>1</td>\n",
       "      <td>0</td>\n",
       "      <td>A/5 21171</td>\n",
       "      <td>7.2500</td>\n",
       "      <td>U</td>\n",
       "      <td>S</td>\n",
       "      <td>U</td>\n",
       "    </tr>\n",
       "    <tr>\n",
       "      <th>2</th>\n",
       "      <td>1.0</td>\n",
       "      <td>1</td>\n",
       "      <td>Cumings, Mrs. John Bradley (Florence Briggs Th...</td>\n",
       "      <td>female</td>\n",
       "      <td>38.0</td>\n",
       "      <td>1</td>\n",
       "      <td>0</td>\n",
       "      <td>PC 17599</td>\n",
       "      <td>71.2833</td>\n",
       "      <td>C85</td>\n",
       "      <td>C</td>\n",
       "      <td>C</td>\n",
       "    </tr>\n",
       "    <tr>\n",
       "      <th>3</th>\n",
       "      <td>1.0</td>\n",
       "      <td>3</td>\n",
       "      <td>Heikkinen, Miss. Laina</td>\n",
       "      <td>female</td>\n",
       "      <td>26.0</td>\n",
       "      <td>0</td>\n",
       "      <td>0</td>\n",
       "      <td>STON/O2. 3101282</td>\n",
       "      <td>7.9250</td>\n",
       "      <td>U</td>\n",
       "      <td>S</td>\n",
       "      <td>U</td>\n",
       "    </tr>\n",
       "    <tr>\n",
       "      <th>4</th>\n",
       "      <td>1.0</td>\n",
       "      <td>1</td>\n",
       "      <td>Futrelle, Mrs. Jacques Heath (Lily May Peel)</td>\n",
       "      <td>female</td>\n",
       "      <td>35.0</td>\n",
       "      <td>1</td>\n",
       "      <td>0</td>\n",
       "      <td>113803</td>\n",
       "      <td>53.1000</td>\n",
       "      <td>C123</td>\n",
       "      <td>S</td>\n",
       "      <td>C</td>\n",
       "    </tr>\n",
       "    <tr>\n",
       "      <th>5</th>\n",
       "      <td>0.0</td>\n",
       "      <td>3</td>\n",
       "      <td>Allen, Mr. William Henry</td>\n",
       "      <td>male</td>\n",
       "      <td>35.0</td>\n",
       "      <td>0</td>\n",
       "      <td>0</td>\n",
       "      <td>373450</td>\n",
       "      <td>8.0500</td>\n",
       "      <td>U</td>\n",
       "      <td>S</td>\n",
       "      <td>U</td>\n",
       "    </tr>\n",
       "  </tbody>\n",
       "</table>\n",
       "</div>"
      ],
      "text/plain": [
       "             Survived  Pclass  \\\n",
       "PassengerId                     \n",
       "1                 0.0       3   \n",
       "2                 1.0       1   \n",
       "3                 1.0       3   \n",
       "4                 1.0       1   \n",
       "5                 0.0       3   \n",
       "\n",
       "                                                          Name     Sex   Age  \\\n",
       "PassengerId                                                                    \n",
       "1                                      Braund, Mr. Owen Harris    male  22.0   \n",
       "2            Cumings, Mrs. John Bradley (Florence Briggs Th...  female  38.0   \n",
       "3                                       Heikkinen, Miss. Laina  female  26.0   \n",
       "4                 Futrelle, Mrs. Jacques Heath (Lily May Peel)  female  35.0   \n",
       "5                                     Allen, Mr. William Henry    male  35.0   \n",
       "\n",
       "             SibSp  Parch            Ticket     Fare Cabin Embarked Cabin_name  \n",
       "PassengerId                                                                     \n",
       "1                1      0         A/5 21171   7.2500     U        S          U  \n",
       "2                1      0          PC 17599  71.2833   C85        C          C  \n",
       "3                0      0  STON/O2. 3101282   7.9250     U        S          U  \n",
       "4                1      0            113803  53.1000  C123        S          C  \n",
       "5                0      0            373450   8.0500     U        S          U  "
      ]
     },
     "execution_count": 48,
     "metadata": {},
     "output_type": "execute_result"
    }
   ],
   "source": [
    "all_data.head()"
   ]
  },
  {
   "cell_type": "code",
   "execution_count": 51,
   "metadata": {
    "ExecuteTime": {
     "end_time": "2020-05-18T13:22:08.722960Z",
     "start_time": "2020-05-18T13:22:08.716770Z"
    }
   },
   "outputs": [
    {
     "data": {
      "text/plain": [
       "array(['U', 'C', 'E', 'G', 'D', 'A', 'B', 'F', 'T'], dtype=object)"
      ]
     },
     "execution_count": 51,
     "metadata": {},
     "output_type": "execute_result"
    }
   ],
   "source": [
    "all_data['Cabin_name'].unique()"
   ]
  },
  {
   "cell_type": "code",
   "execution_count": 57,
   "metadata": {
    "ExecuteTime": {
     "end_time": "2020-05-18T13:24:40.965932Z",
     "start_time": "2020-05-18T13:24:40.960345Z"
    }
   },
   "outputs": [],
   "source": [
    "# now converting this data into category\n",
    "all_data['Cabin_name'] = all_data['Cabin_name'].astype('category')\n",
    "all_data['Cabin_category'] = all_data['Cabin_name'].cat.codes"
   ]
  },
  {
   "cell_type": "code",
   "execution_count": 58,
   "metadata": {
    "ExecuteTime": {
     "end_time": "2020-05-18T13:24:47.420825Z",
     "start_time": "2020-05-18T13:24:47.403874Z"
    }
   },
   "outputs": [
    {
     "data": {
      "text/html": [
       "<div>\n",
       "<style scoped>\n",
       "    .dataframe tbody tr th:only-of-type {\n",
       "        vertical-align: middle;\n",
       "    }\n",
       "\n",
       "    .dataframe tbody tr th {\n",
       "        vertical-align: top;\n",
       "    }\n",
       "\n",
       "    .dataframe thead th {\n",
       "        text-align: right;\n",
       "    }\n",
       "</style>\n",
       "<table border=\"1\" class=\"dataframe\">\n",
       "  <thead>\n",
       "    <tr style=\"text-align: right;\">\n",
       "      <th></th>\n",
       "      <th>Survived</th>\n",
       "      <th>Pclass</th>\n",
       "      <th>Name</th>\n",
       "      <th>Sex</th>\n",
       "      <th>Age</th>\n",
       "      <th>SibSp</th>\n",
       "      <th>Parch</th>\n",
       "      <th>Ticket</th>\n",
       "      <th>Fare</th>\n",
       "      <th>Cabin</th>\n",
       "      <th>Embarked</th>\n",
       "      <th>Cabin_name</th>\n",
       "      <th>Sex_category</th>\n",
       "      <th>Embarked_category</th>\n",
       "      <th>Cabin_category</th>\n",
       "    </tr>\n",
       "    <tr>\n",
       "      <th>PassengerId</th>\n",
       "      <th></th>\n",
       "      <th></th>\n",
       "      <th></th>\n",
       "      <th></th>\n",
       "      <th></th>\n",
       "      <th></th>\n",
       "      <th></th>\n",
       "      <th></th>\n",
       "      <th></th>\n",
       "      <th></th>\n",
       "      <th></th>\n",
       "      <th></th>\n",
       "      <th></th>\n",
       "      <th></th>\n",
       "      <th></th>\n",
       "    </tr>\n",
       "  </thead>\n",
       "  <tbody>\n",
       "    <tr>\n",
       "      <th>1</th>\n",
       "      <td>0.0</td>\n",
       "      <td>3</td>\n",
       "      <td>Braund, Mr. Owen Harris</td>\n",
       "      <td>male</td>\n",
       "      <td>22.0</td>\n",
       "      <td>1</td>\n",
       "      <td>0</td>\n",
       "      <td>A/5 21171</td>\n",
       "      <td>7.2500</td>\n",
       "      <td>U</td>\n",
       "      <td>S</td>\n",
       "      <td>U</td>\n",
       "      <td>1</td>\n",
       "      <td>2</td>\n",
       "      <td>8</td>\n",
       "    </tr>\n",
       "    <tr>\n",
       "      <th>2</th>\n",
       "      <td>1.0</td>\n",
       "      <td>1</td>\n",
       "      <td>Cumings, Mrs. John Bradley (Florence Briggs Th...</td>\n",
       "      <td>female</td>\n",
       "      <td>38.0</td>\n",
       "      <td>1</td>\n",
       "      <td>0</td>\n",
       "      <td>PC 17599</td>\n",
       "      <td>71.2833</td>\n",
       "      <td>C85</td>\n",
       "      <td>C</td>\n",
       "      <td>C</td>\n",
       "      <td>0</td>\n",
       "      <td>0</td>\n",
       "      <td>2</td>\n",
       "    </tr>\n",
       "    <tr>\n",
       "      <th>3</th>\n",
       "      <td>1.0</td>\n",
       "      <td>3</td>\n",
       "      <td>Heikkinen, Miss. Laina</td>\n",
       "      <td>female</td>\n",
       "      <td>26.0</td>\n",
       "      <td>0</td>\n",
       "      <td>0</td>\n",
       "      <td>STON/O2. 3101282</td>\n",
       "      <td>7.9250</td>\n",
       "      <td>U</td>\n",
       "      <td>S</td>\n",
       "      <td>U</td>\n",
       "      <td>0</td>\n",
       "      <td>2</td>\n",
       "      <td>8</td>\n",
       "    </tr>\n",
       "    <tr>\n",
       "      <th>4</th>\n",
       "      <td>1.0</td>\n",
       "      <td>1</td>\n",
       "      <td>Futrelle, Mrs. Jacques Heath (Lily May Peel)</td>\n",
       "      <td>female</td>\n",
       "      <td>35.0</td>\n",
       "      <td>1</td>\n",
       "      <td>0</td>\n",
       "      <td>113803</td>\n",
       "      <td>53.1000</td>\n",
       "      <td>C123</td>\n",
       "      <td>S</td>\n",
       "      <td>C</td>\n",
       "      <td>0</td>\n",
       "      <td>2</td>\n",
       "      <td>2</td>\n",
       "    </tr>\n",
       "    <tr>\n",
       "      <th>5</th>\n",
       "      <td>0.0</td>\n",
       "      <td>3</td>\n",
       "      <td>Allen, Mr. William Henry</td>\n",
       "      <td>male</td>\n",
       "      <td>35.0</td>\n",
       "      <td>0</td>\n",
       "      <td>0</td>\n",
       "      <td>373450</td>\n",
       "      <td>8.0500</td>\n",
       "      <td>U</td>\n",
       "      <td>S</td>\n",
       "      <td>U</td>\n",
       "      <td>1</td>\n",
       "      <td>2</td>\n",
       "      <td>8</td>\n",
       "    </tr>\n",
       "  </tbody>\n",
       "</table>\n",
       "</div>"
      ],
      "text/plain": [
       "             Survived  Pclass  \\\n",
       "PassengerId                     \n",
       "1                 0.0       3   \n",
       "2                 1.0       1   \n",
       "3                 1.0       3   \n",
       "4                 1.0       1   \n",
       "5                 0.0       3   \n",
       "\n",
       "                                                          Name     Sex   Age  \\\n",
       "PassengerId                                                                    \n",
       "1                                      Braund, Mr. Owen Harris    male  22.0   \n",
       "2            Cumings, Mrs. John Bradley (Florence Briggs Th...  female  38.0   \n",
       "3                                       Heikkinen, Miss. Laina  female  26.0   \n",
       "4                 Futrelle, Mrs. Jacques Heath (Lily May Peel)  female  35.0   \n",
       "5                                     Allen, Mr. William Henry    male  35.0   \n",
       "\n",
       "             SibSp  Parch            Ticket     Fare Cabin Embarked  \\\n",
       "PassengerId                                                           \n",
       "1                1      0         A/5 21171   7.2500     U        S   \n",
       "2                1      0          PC 17599  71.2833   C85        C   \n",
       "3                0      0  STON/O2. 3101282   7.9250     U        S   \n",
       "4                1      0            113803  53.1000  C123        S   \n",
       "5                0      0            373450   8.0500     U        S   \n",
       "\n",
       "            Cabin_name  Sex_category  Embarked_category  Cabin_category  \n",
       "PassengerId                                                              \n",
       "1                    U             1                  2               8  \n",
       "2                    C             0                  0               2  \n",
       "3                    U             0                  2               8  \n",
       "4                    C             0                  2               2  \n",
       "5                    U             1                  2               8  "
      ]
     },
     "execution_count": 58,
     "metadata": {},
     "output_type": "execute_result"
    }
   ],
   "source": [
    "all_data.head()"
   ]
  },
  {
   "cell_type": "markdown",
   "metadata": {},
   "source": [
    "### Combining SibSp and Parch"
   ]
  },
  {
   "cell_type": "markdown",
   "metadata": {},
   "source": [
    "We can club the 'SibSp' and 'Parch' together to see how many family members did a passenger have."
   ]
  },
  {
   "cell_type": "code",
   "execution_count": 59,
   "metadata": {
    "ExecuteTime": {
     "end_time": "2020-05-18T13:25:58.885498Z",
     "start_time": "2020-05-18T13:25:58.864176Z"
    }
   },
   "outputs": [
    {
     "data": {
      "text/html": [
       "<div>\n",
       "<style scoped>\n",
       "    .dataframe tbody tr th:only-of-type {\n",
       "        vertical-align: middle;\n",
       "    }\n",
       "\n",
       "    .dataframe tbody tr th {\n",
       "        vertical-align: top;\n",
       "    }\n",
       "\n",
       "    .dataframe thead th {\n",
       "        text-align: right;\n",
       "    }\n",
       "</style>\n",
       "<table border=\"1\" class=\"dataframe\">\n",
       "  <thead>\n",
       "    <tr style=\"text-align: right;\">\n",
       "      <th></th>\n",
       "      <th>Survived</th>\n",
       "      <th>Pclass</th>\n",
       "      <th>Name</th>\n",
       "      <th>Sex</th>\n",
       "      <th>Age</th>\n",
       "      <th>SibSp</th>\n",
       "      <th>Parch</th>\n",
       "      <th>Ticket</th>\n",
       "      <th>Fare</th>\n",
       "      <th>Cabin</th>\n",
       "      <th>Embarked</th>\n",
       "      <th>Cabin_name</th>\n",
       "      <th>Sex_category</th>\n",
       "      <th>Embarked_category</th>\n",
       "      <th>Cabin_category</th>\n",
       "      <th>Family_member</th>\n",
       "    </tr>\n",
       "    <tr>\n",
       "      <th>PassengerId</th>\n",
       "      <th></th>\n",
       "      <th></th>\n",
       "      <th></th>\n",
       "      <th></th>\n",
       "      <th></th>\n",
       "      <th></th>\n",
       "      <th></th>\n",
       "      <th></th>\n",
       "      <th></th>\n",
       "      <th></th>\n",
       "      <th></th>\n",
       "      <th></th>\n",
       "      <th></th>\n",
       "      <th></th>\n",
       "      <th></th>\n",
       "      <th></th>\n",
       "    </tr>\n",
       "  </thead>\n",
       "  <tbody>\n",
       "    <tr>\n",
       "      <th>491</th>\n",
       "      <td>0.0</td>\n",
       "      <td>3</td>\n",
       "      <td>Hagland, Mr. Konrad Mathias Reiersen</td>\n",
       "      <td>male</td>\n",
       "      <td>24.0</td>\n",
       "      <td>1</td>\n",
       "      <td>0</td>\n",
       "      <td>65304</td>\n",
       "      <td>19.9667</td>\n",
       "      <td>U</td>\n",
       "      <td>S</td>\n",
       "      <td>U</td>\n",
       "      <td>1</td>\n",
       "      <td>2</td>\n",
       "      <td>8</td>\n",
       "      <td>2</td>\n",
       "    </tr>\n",
       "    <tr>\n",
       "      <th>1049</th>\n",
       "      <td>NaN</td>\n",
       "      <td>3</td>\n",
       "      <td>Lundin, Miss. Olga Elida</td>\n",
       "      <td>female</td>\n",
       "      <td>23.0</td>\n",
       "      <td>0</td>\n",
       "      <td>0</td>\n",
       "      <td>347469</td>\n",
       "      <td>7.8542</td>\n",
       "      <td>U</td>\n",
       "      <td>S</td>\n",
       "      <td>U</td>\n",
       "      <td>0</td>\n",
       "      <td>2</td>\n",
       "      <td>8</td>\n",
       "      <td>1</td>\n",
       "    </tr>\n",
       "    <tr>\n",
       "      <th>867</th>\n",
       "      <td>1.0</td>\n",
       "      <td>2</td>\n",
       "      <td>Duran y More, Miss. Asuncion</td>\n",
       "      <td>female</td>\n",
       "      <td>27.0</td>\n",
       "      <td>1</td>\n",
       "      <td>0</td>\n",
       "      <td>SC/PARIS 2149</td>\n",
       "      <td>13.8583</td>\n",
       "      <td>U</td>\n",
       "      <td>C</td>\n",
       "      <td>U</td>\n",
       "      <td>0</td>\n",
       "      <td>0</td>\n",
       "      <td>8</td>\n",
       "      <td>2</td>\n",
       "    </tr>\n",
       "    <tr>\n",
       "      <th>1265</th>\n",
       "      <td>NaN</td>\n",
       "      <td>2</td>\n",
       "      <td>Harbeck, Mr. William H</td>\n",
       "      <td>male</td>\n",
       "      <td>44.0</td>\n",
       "      <td>0</td>\n",
       "      <td>0</td>\n",
       "      <td>248746</td>\n",
       "      <td>13.0000</td>\n",
       "      <td>U</td>\n",
       "      <td>S</td>\n",
       "      <td>U</td>\n",
       "      <td>1</td>\n",
       "      <td>2</td>\n",
       "      <td>8</td>\n",
       "      <td>1</td>\n",
       "    </tr>\n",
       "    <tr>\n",
       "      <th>330</th>\n",
       "      <td>1.0</td>\n",
       "      <td>1</td>\n",
       "      <td>Hippach, Miss. Jean Gertrude</td>\n",
       "      <td>female</td>\n",
       "      <td>16.0</td>\n",
       "      <td>0</td>\n",
       "      <td>1</td>\n",
       "      <td>111361</td>\n",
       "      <td>57.9792</td>\n",
       "      <td>B18</td>\n",
       "      <td>C</td>\n",
       "      <td>B</td>\n",
       "      <td>0</td>\n",
       "      <td>0</td>\n",
       "      <td>1</td>\n",
       "      <td>2</td>\n",
       "    </tr>\n",
       "    <tr>\n",
       "      <th>813</th>\n",
       "      <td>0.0</td>\n",
       "      <td>2</td>\n",
       "      <td>Slemen, Mr. Richard James</td>\n",
       "      <td>male</td>\n",
       "      <td>35.0</td>\n",
       "      <td>0</td>\n",
       "      <td>0</td>\n",
       "      <td>28206</td>\n",
       "      <td>10.5000</td>\n",
       "      <td>U</td>\n",
       "      <td>S</td>\n",
       "      <td>U</td>\n",
       "      <td>1</td>\n",
       "      <td>2</td>\n",
       "      <td>8</td>\n",
       "      <td>1</td>\n",
       "    </tr>\n",
       "    <tr>\n",
       "      <th>1087</th>\n",
       "      <td>NaN</td>\n",
       "      <td>3</td>\n",
       "      <td>Karlsson, Mr. Julius Konrad Eugen</td>\n",
       "      <td>male</td>\n",
       "      <td>33.0</td>\n",
       "      <td>0</td>\n",
       "      <td>0</td>\n",
       "      <td>347465</td>\n",
       "      <td>7.8542</td>\n",
       "      <td>U</td>\n",
       "      <td>S</td>\n",
       "      <td>U</td>\n",
       "      <td>1</td>\n",
       "      <td>2</td>\n",
       "      <td>8</td>\n",
       "      <td>1</td>\n",
       "    </tr>\n",
       "    <tr>\n",
       "      <th>880</th>\n",
       "      <td>1.0</td>\n",
       "      <td>1</td>\n",
       "      <td>Potter, Mrs. Thomas Jr (Lily Alexenia Wilson)</td>\n",
       "      <td>female</td>\n",
       "      <td>56.0</td>\n",
       "      <td>0</td>\n",
       "      <td>1</td>\n",
       "      <td>11767</td>\n",
       "      <td>83.1583</td>\n",
       "      <td>C50</td>\n",
       "      <td>C</td>\n",
       "      <td>C</td>\n",
       "      <td>0</td>\n",
       "      <td>0</td>\n",
       "      <td>2</td>\n",
       "      <td>2</td>\n",
       "    </tr>\n",
       "    <tr>\n",
       "      <th>561</th>\n",
       "      <td>0.0</td>\n",
       "      <td>3</td>\n",
       "      <td>Morrow, Mr. Thomas Rowan</td>\n",
       "      <td>male</td>\n",
       "      <td>24.0</td>\n",
       "      <td>0</td>\n",
       "      <td>0</td>\n",
       "      <td>372622</td>\n",
       "      <td>7.7500</td>\n",
       "      <td>U</td>\n",
       "      <td>Q</td>\n",
       "      <td>U</td>\n",
       "      <td>1</td>\n",
       "      <td>1</td>\n",
       "      <td>8</td>\n",
       "      <td>1</td>\n",
       "    </tr>\n",
       "    <tr>\n",
       "      <th>399</th>\n",
       "      <td>0.0</td>\n",
       "      <td>2</td>\n",
       "      <td>Pain, Dr. Alfred</td>\n",
       "      <td>male</td>\n",
       "      <td>23.0</td>\n",
       "      <td>0</td>\n",
       "      <td>0</td>\n",
       "      <td>244278</td>\n",
       "      <td>10.5000</td>\n",
       "      <td>U</td>\n",
       "      <td>S</td>\n",
       "      <td>U</td>\n",
       "      <td>1</td>\n",
       "      <td>2</td>\n",
       "      <td>8</td>\n",
       "      <td>1</td>\n",
       "    </tr>\n",
       "  </tbody>\n",
       "</table>\n",
       "</div>"
      ],
      "text/plain": [
       "             Survived  Pclass                                           Name  \\\n",
       "PassengerId                                                                    \n",
       "491               0.0       3           Hagland, Mr. Konrad Mathias Reiersen   \n",
       "1049              NaN       3                       Lundin, Miss. Olga Elida   \n",
       "867               1.0       2                   Duran y More, Miss. Asuncion   \n",
       "1265              NaN       2                         Harbeck, Mr. William H   \n",
       "330               1.0       1                   Hippach, Miss. Jean Gertrude   \n",
       "813               0.0       2                      Slemen, Mr. Richard James   \n",
       "1087              NaN       3              Karlsson, Mr. Julius Konrad Eugen   \n",
       "880               1.0       1  Potter, Mrs. Thomas Jr (Lily Alexenia Wilson)   \n",
       "561               0.0       3                       Morrow, Mr. Thomas Rowan   \n",
       "399               0.0       2                               Pain, Dr. Alfred   \n",
       "\n",
       "                Sex   Age  SibSp  Parch         Ticket     Fare Cabin  \\\n",
       "PassengerId                                                             \n",
       "491            male  24.0      1      0          65304  19.9667     U   \n",
       "1049         female  23.0      0      0         347469   7.8542     U   \n",
       "867          female  27.0      1      0  SC/PARIS 2149  13.8583     U   \n",
       "1265           male  44.0      0      0         248746  13.0000     U   \n",
       "330          female  16.0      0      1         111361  57.9792   B18   \n",
       "813            male  35.0      0      0          28206  10.5000     U   \n",
       "1087           male  33.0      0      0         347465   7.8542     U   \n",
       "880          female  56.0      0      1          11767  83.1583   C50   \n",
       "561            male  24.0      0      0         372622   7.7500     U   \n",
       "399            male  23.0      0      0         244278  10.5000     U   \n",
       "\n",
       "            Embarked Cabin_name  Sex_category  Embarked_category  \\\n",
       "PassengerId                                                        \n",
       "491                S          U             1                  2   \n",
       "1049               S          U             0                  2   \n",
       "867                C          U             0                  0   \n",
       "1265               S          U             1                  2   \n",
       "330                C          B             0                  0   \n",
       "813                S          U             1                  2   \n",
       "1087               S          U             1                  2   \n",
       "880                C          C             0                  0   \n",
       "561                Q          U             1                  1   \n",
       "399                S          U             1                  2   \n",
       "\n",
       "             Cabin_category  Family_member  \n",
       "PassengerId                                 \n",
       "491                       8              2  \n",
       "1049                      8              1  \n",
       "867                       8              2  \n",
       "1265                      8              1  \n",
       "330                       1              2  \n",
       "813                       8              1  \n",
       "1087                      8              1  \n",
       "880                       2              2  \n",
       "561                       8              1  \n",
       "399                       8              1  "
      ]
     },
     "execution_count": 59,
     "metadata": {},
     "output_type": "execute_result"
    }
   ],
   "source": [
    "all_data['Family_member'] = all_data['SibSp'] + all_data['Parch'] + 1\n",
    "all_data.sample(10)"
   ]
  },
  {
   "cell_type": "markdown",
   "metadata": {},
   "source": [
    "### Fixing Name"
   ]
  },
  {
   "cell_type": "markdown",
   "metadata": {},
   "source": [
    "Lets see if we can do the same thing with Name like we did with Cabin."
   ]
  },
  {
   "cell_type": "code",
   "execution_count": 60,
   "metadata": {
    "ExecuteTime": {
     "end_time": "2020-05-18T13:28:40.896920Z",
     "start_time": "2020-05-18T13:28:40.892883Z"
    }
   },
   "outputs": [
    {
     "data": {
      "text/plain": [
       "array(['Braund, Mr. Owen Harris',\n",
       "       'Cumings, Mrs. John Bradley (Florence Briggs Thayer)',\n",
       "       'Heikkinen, Miss. Laina', ..., 'Saether, Mr. Simon Sivertsen',\n",
       "       'Ware, Mr. Frederick', 'Peter, Master. Michael J'], dtype=object)"
      ]
     },
     "execution_count": 60,
     "metadata": {},
     "output_type": "execute_result"
    }
   ],
   "source": [
    "all_data['Name'].unique()"
   ]
  },
  {
   "cell_type": "markdown",
   "metadata": {},
   "source": [
    "Looks messy but the title of each name can be important to us. So lets extract the title."
   ]
  },
  {
   "cell_type": "code",
   "execution_count": 65,
   "metadata": {
    "ExecuteTime": {
     "end_time": "2020-05-18T13:31:44.035771Z",
     "start_time": "2020-05-18T13:31:44.028772Z"
    }
   },
   "outputs": [],
   "source": [
    "all_data['Title'] = all_data['Name'].str.extract(r'([A-Za-z]+)\\.')"
   ]
  },
  {
   "cell_type": "code",
   "execution_count": 66,
   "metadata": {
    "ExecuteTime": {
     "end_time": "2020-05-18T13:31:54.410238Z",
     "start_time": "2020-05-18T13:31:54.406161Z"
    }
   },
   "outputs": [
    {
     "data": {
      "text/plain": [
       "array(['Mr', 'Mrs', 'Miss', 'Master', 'Don', 'Rev', 'Dr', 'Mme', 'Ms',\n",
       "       'Major', 'Lady', 'Sir', 'Mlle', 'Col', 'Capt', 'Countess',\n",
       "       'Jonkheer', 'Dona'], dtype=object)"
      ]
     },
     "execution_count": 66,
     "metadata": {},
     "output_type": "execute_result"
    }
   ],
   "source": [
    "all_data['Title'].unique()"
   ]
  },
  {
   "cell_type": "code",
   "execution_count": 67,
   "metadata": {
    "ExecuteTime": {
     "end_time": "2020-05-18T13:32:37.624303Z",
     "start_time": "2020-05-18T13:32:37.618055Z"
    }
   },
   "outputs": [
    {
     "data": {
      "text/plain": [
       "Mr          757\n",
       "Miss        260\n",
       "Mrs         197\n",
       "Master       61\n",
       "Dr            8\n",
       "Rev           8\n",
       "Col           4\n",
       "Ms            2\n",
       "Major         2\n",
       "Mlle          2\n",
       "Countess      1\n",
       "Jonkheer      1\n",
       "Sir           1\n",
       "Lady          1\n",
       "Mme           1\n",
       "Don           1\n",
       "Capt          1\n",
       "Dona          1\n",
       "Name: Title, dtype: int64"
      ]
     },
     "execution_count": 67,
     "metadata": {},
     "output_type": "execute_result"
    }
   ],
   "source": [
    "all_data['Title'].value_counts()"
   ]
  },
  {
   "cell_type": "markdown",
   "metadata": {},
   "source": [
    "It seems that apart from Mr, Miss, Mrs, Master, Dr, Rev, others are quite low in number. Which means they can be grouped togther to form a grouped data, like [Countess, Jonkheer, ... Dona] -> Others."
   ]
  },
  {
   "cell_type": "code",
   "execution_count": 69,
   "metadata": {
    "ExecuteTime": {
     "end_time": "2020-05-18T13:36:49.687583Z",
     "start_time": "2020-05-18T13:36:49.683366Z"
    }
   },
   "outputs": [],
   "source": [
    "all_data['Title'] = all_data['Title'].replace(['Countess', 'Jonkheer', 'Sir', 'Lady', 'Mme', 'Don', 'Capt', 'Dona'],'Other')"
   ]
  },
  {
   "cell_type": "code",
   "execution_count": 70,
   "metadata": {
    "ExecuteTime": {
     "end_time": "2020-05-18T13:36:59.459254Z",
     "start_time": "2020-05-18T13:36:59.455303Z"
    }
   },
   "outputs": [
    {
     "data": {
      "text/plain": [
       "array(['Mr', 'Mrs', 'Miss', 'Master', 'Other', 'Rev', 'Dr', 'Ms', 'Major',\n",
       "       'Mlle', 'Col'], dtype=object)"
      ]
     },
     "execution_count": 70,
     "metadata": {},
     "output_type": "execute_result"
    }
   ],
   "source": [
    "all_data.Title.unique()"
   ]
  },
  {
   "cell_type": "code",
   "execution_count": 71,
   "metadata": {
    "ExecuteTime": {
     "end_time": "2020-05-18T13:38:11.009508Z",
     "start_time": "2020-05-18T13:38:10.988355Z"
    }
   },
   "outputs": [
    {
     "data": {
      "text/html": [
       "<div>\n",
       "<style scoped>\n",
       "    .dataframe tbody tr th:only-of-type {\n",
       "        vertical-align: middle;\n",
       "    }\n",
       "\n",
       "    .dataframe tbody tr th {\n",
       "        vertical-align: top;\n",
       "    }\n",
       "\n",
       "    .dataframe thead th {\n",
       "        text-align: right;\n",
       "    }\n",
       "</style>\n",
       "<table border=\"1\" class=\"dataframe\">\n",
       "  <thead>\n",
       "    <tr style=\"text-align: right;\">\n",
       "      <th></th>\n",
       "      <th>Survived</th>\n",
       "      <th>Pclass</th>\n",
       "      <th>Name</th>\n",
       "      <th>Sex</th>\n",
       "      <th>Age</th>\n",
       "      <th>SibSp</th>\n",
       "      <th>Parch</th>\n",
       "      <th>Ticket</th>\n",
       "      <th>Fare</th>\n",
       "      <th>Cabin</th>\n",
       "      <th>Embarked</th>\n",
       "      <th>Cabin_name</th>\n",
       "      <th>Sex_category</th>\n",
       "      <th>Embarked_category</th>\n",
       "      <th>Cabin_category</th>\n",
       "      <th>Family_member</th>\n",
       "      <th>Title</th>\n",
       "      <th>Title_category</th>\n",
       "    </tr>\n",
       "    <tr>\n",
       "      <th>PassengerId</th>\n",
       "      <th></th>\n",
       "      <th></th>\n",
       "      <th></th>\n",
       "      <th></th>\n",
       "      <th></th>\n",
       "      <th></th>\n",
       "      <th></th>\n",
       "      <th></th>\n",
       "      <th></th>\n",
       "      <th></th>\n",
       "      <th></th>\n",
       "      <th></th>\n",
       "      <th></th>\n",
       "      <th></th>\n",
       "      <th></th>\n",
       "      <th></th>\n",
       "      <th></th>\n",
       "      <th></th>\n",
       "    </tr>\n",
       "  </thead>\n",
       "  <tbody>\n",
       "    <tr>\n",
       "      <th>1</th>\n",
       "      <td>0.0</td>\n",
       "      <td>3</td>\n",
       "      <td>Braund, Mr. Owen Harris</td>\n",
       "      <td>male</td>\n",
       "      <td>22.0</td>\n",
       "      <td>1</td>\n",
       "      <td>0</td>\n",
       "      <td>A/5 21171</td>\n",
       "      <td>7.2500</td>\n",
       "      <td>U</td>\n",
       "      <td>S</td>\n",
       "      <td>U</td>\n",
       "      <td>1</td>\n",
       "      <td>2</td>\n",
       "      <td>8</td>\n",
       "      <td>2</td>\n",
       "      <td>Mr</td>\n",
       "      <td>6</td>\n",
       "    </tr>\n",
       "    <tr>\n",
       "      <th>2</th>\n",
       "      <td>1.0</td>\n",
       "      <td>1</td>\n",
       "      <td>Cumings, Mrs. John Bradley (Florence Briggs Th...</td>\n",
       "      <td>female</td>\n",
       "      <td>38.0</td>\n",
       "      <td>1</td>\n",
       "      <td>0</td>\n",
       "      <td>PC 17599</td>\n",
       "      <td>71.2833</td>\n",
       "      <td>C85</td>\n",
       "      <td>C</td>\n",
       "      <td>C</td>\n",
       "      <td>0</td>\n",
       "      <td>0</td>\n",
       "      <td>2</td>\n",
       "      <td>2</td>\n",
       "      <td>Mrs</td>\n",
       "      <td>7</td>\n",
       "    </tr>\n",
       "    <tr>\n",
       "      <th>3</th>\n",
       "      <td>1.0</td>\n",
       "      <td>3</td>\n",
       "      <td>Heikkinen, Miss. Laina</td>\n",
       "      <td>female</td>\n",
       "      <td>26.0</td>\n",
       "      <td>0</td>\n",
       "      <td>0</td>\n",
       "      <td>STON/O2. 3101282</td>\n",
       "      <td>7.9250</td>\n",
       "      <td>U</td>\n",
       "      <td>S</td>\n",
       "      <td>U</td>\n",
       "      <td>0</td>\n",
       "      <td>2</td>\n",
       "      <td>8</td>\n",
       "      <td>1</td>\n",
       "      <td>Miss</td>\n",
       "      <td>4</td>\n",
       "    </tr>\n",
       "    <tr>\n",
       "      <th>4</th>\n",
       "      <td>1.0</td>\n",
       "      <td>1</td>\n",
       "      <td>Futrelle, Mrs. Jacques Heath (Lily May Peel)</td>\n",
       "      <td>female</td>\n",
       "      <td>35.0</td>\n",
       "      <td>1</td>\n",
       "      <td>0</td>\n",
       "      <td>113803</td>\n",
       "      <td>53.1000</td>\n",
       "      <td>C123</td>\n",
       "      <td>S</td>\n",
       "      <td>C</td>\n",
       "      <td>0</td>\n",
       "      <td>2</td>\n",
       "      <td>2</td>\n",
       "      <td>2</td>\n",
       "      <td>Mrs</td>\n",
       "      <td>7</td>\n",
       "    </tr>\n",
       "    <tr>\n",
       "      <th>5</th>\n",
       "      <td>0.0</td>\n",
       "      <td>3</td>\n",
       "      <td>Allen, Mr. William Henry</td>\n",
       "      <td>male</td>\n",
       "      <td>35.0</td>\n",
       "      <td>0</td>\n",
       "      <td>0</td>\n",
       "      <td>373450</td>\n",
       "      <td>8.0500</td>\n",
       "      <td>U</td>\n",
       "      <td>S</td>\n",
       "      <td>U</td>\n",
       "      <td>1</td>\n",
       "      <td>2</td>\n",
       "      <td>8</td>\n",
       "      <td>1</td>\n",
       "      <td>Mr</td>\n",
       "      <td>6</td>\n",
       "    </tr>\n",
       "  </tbody>\n",
       "</table>\n",
       "</div>"
      ],
      "text/plain": [
       "             Survived  Pclass  \\\n",
       "PassengerId                     \n",
       "1                 0.0       3   \n",
       "2                 1.0       1   \n",
       "3                 1.0       3   \n",
       "4                 1.0       1   \n",
       "5                 0.0       3   \n",
       "\n",
       "                                                          Name     Sex   Age  \\\n",
       "PassengerId                                                                    \n",
       "1                                      Braund, Mr. Owen Harris    male  22.0   \n",
       "2            Cumings, Mrs. John Bradley (Florence Briggs Th...  female  38.0   \n",
       "3                                       Heikkinen, Miss. Laina  female  26.0   \n",
       "4                 Futrelle, Mrs. Jacques Heath (Lily May Peel)  female  35.0   \n",
       "5                                     Allen, Mr. William Henry    male  35.0   \n",
       "\n",
       "             SibSp  Parch            Ticket     Fare Cabin Embarked  \\\n",
       "PassengerId                                                           \n",
       "1                1      0         A/5 21171   7.2500     U        S   \n",
       "2                1      0          PC 17599  71.2833   C85        C   \n",
       "3                0      0  STON/O2. 3101282   7.9250     U        S   \n",
       "4                1      0            113803  53.1000  C123        S   \n",
       "5                0      0            373450   8.0500     U        S   \n",
       "\n",
       "            Cabin_name  Sex_category  Embarked_category  Cabin_category  \\\n",
       "PassengerId                                                               \n",
       "1                    U             1                  2               8   \n",
       "2                    C             0                  0               2   \n",
       "3                    U             0                  2               8   \n",
       "4                    C             0                  2               2   \n",
       "5                    U             1                  2               8   \n",
       "\n",
       "             Family_member Title  Title_category  \n",
       "PassengerId                                       \n",
       "1                        2    Mr               6  \n",
       "2                        2   Mrs               7  \n",
       "3                        1  Miss               4  \n",
       "4                        2   Mrs               7  \n",
       "5                        1    Mr               6  "
      ]
     },
     "execution_count": 71,
     "metadata": {},
     "output_type": "execute_result"
    }
   ],
   "source": [
    "# Converting title into category codes\n",
    "all_data['Title'] = all_data.Title.astype('category')\n",
    "all_data['Title_category'] = all_data['Title'].cat.codes\n",
    "all_data.head()"
   ]
  },
  {
   "cell_type": "markdown",
   "metadata": {},
   "source": [
    "### Cleaning the Dataframe"
   ]
  },
  {
   "cell_type": "markdown",
   "metadata": {},
   "source": [
    "I dont see any use of the Ticket column so droping it. Also dropping the columns which have been used to create category columns and which now serves no purpose."
   ]
  },
  {
   "cell_type": "code",
   "execution_count": 73,
   "metadata": {
    "ExecuteTime": {
     "end_time": "2020-05-18T13:41:54.383669Z",
     "start_time": "2020-05-18T13:41:54.370364Z"
    }
   },
   "outputs": [
    {
     "data": {
      "text/html": [
       "<div>\n",
       "<style scoped>\n",
       "    .dataframe tbody tr th:only-of-type {\n",
       "        vertical-align: middle;\n",
       "    }\n",
       "\n",
       "    .dataframe tbody tr th {\n",
       "        vertical-align: top;\n",
       "    }\n",
       "\n",
       "    .dataframe thead th {\n",
       "        text-align: right;\n",
       "    }\n",
       "</style>\n",
       "<table border=\"1\" class=\"dataframe\">\n",
       "  <thead>\n",
       "    <tr style=\"text-align: right;\">\n",
       "      <th></th>\n",
       "      <th>Survived</th>\n",
       "      <th>Pclass</th>\n",
       "      <th>Age</th>\n",
       "      <th>Fare</th>\n",
       "      <th>Sex_category</th>\n",
       "      <th>Embarked_category</th>\n",
       "      <th>Cabin_category</th>\n",
       "      <th>Family_member</th>\n",
       "      <th>Title_category</th>\n",
       "    </tr>\n",
       "    <tr>\n",
       "      <th>PassengerId</th>\n",
       "      <th></th>\n",
       "      <th></th>\n",
       "      <th></th>\n",
       "      <th></th>\n",
       "      <th></th>\n",
       "      <th></th>\n",
       "      <th></th>\n",
       "      <th></th>\n",
       "      <th></th>\n",
       "    </tr>\n",
       "  </thead>\n",
       "  <tbody>\n",
       "    <tr>\n",
       "      <th>1</th>\n",
       "      <td>0.0</td>\n",
       "      <td>3</td>\n",
       "      <td>22.0</td>\n",
       "      <td>7.2500</td>\n",
       "      <td>1</td>\n",
       "      <td>2</td>\n",
       "      <td>8</td>\n",
       "      <td>2</td>\n",
       "      <td>6</td>\n",
       "    </tr>\n",
       "    <tr>\n",
       "      <th>2</th>\n",
       "      <td>1.0</td>\n",
       "      <td>1</td>\n",
       "      <td>38.0</td>\n",
       "      <td>71.2833</td>\n",
       "      <td>0</td>\n",
       "      <td>0</td>\n",
       "      <td>2</td>\n",
       "      <td>2</td>\n",
       "      <td>7</td>\n",
       "    </tr>\n",
       "    <tr>\n",
       "      <th>3</th>\n",
       "      <td>1.0</td>\n",
       "      <td>3</td>\n",
       "      <td>26.0</td>\n",
       "      <td>7.9250</td>\n",
       "      <td>0</td>\n",
       "      <td>2</td>\n",
       "      <td>8</td>\n",
       "      <td>1</td>\n",
       "      <td>4</td>\n",
       "    </tr>\n",
       "    <tr>\n",
       "      <th>4</th>\n",
       "      <td>1.0</td>\n",
       "      <td>1</td>\n",
       "      <td>35.0</td>\n",
       "      <td>53.1000</td>\n",
       "      <td>0</td>\n",
       "      <td>2</td>\n",
       "      <td>2</td>\n",
       "      <td>2</td>\n",
       "      <td>7</td>\n",
       "    </tr>\n",
       "    <tr>\n",
       "      <th>5</th>\n",
       "      <td>0.0</td>\n",
       "      <td>3</td>\n",
       "      <td>35.0</td>\n",
       "      <td>8.0500</td>\n",
       "      <td>1</td>\n",
       "      <td>2</td>\n",
       "      <td>8</td>\n",
       "      <td>1</td>\n",
       "      <td>6</td>\n",
       "    </tr>\n",
       "  </tbody>\n",
       "</table>\n",
       "</div>"
      ],
      "text/plain": [
       "             Survived  Pclass   Age     Fare  Sex_category  Embarked_category  \\\n",
       "PassengerId                                                                     \n",
       "1                 0.0       3  22.0   7.2500             1                  2   \n",
       "2                 1.0       1  38.0  71.2833             0                  0   \n",
       "3                 1.0       3  26.0   7.9250             0                  2   \n",
       "4                 1.0       1  35.0  53.1000             0                  2   \n",
       "5                 0.0       3  35.0   8.0500             1                  2   \n",
       "\n",
       "             Cabin_category  Family_member  Title_category  \n",
       "PassengerId                                                 \n",
       "1                         8              2               6  \n",
       "2                         2              2               7  \n",
       "3                         8              1               4  \n",
       "4                         2              2               7  \n",
       "5                         8              1               6  "
      ]
     },
     "execution_count": 73,
     "metadata": {},
     "output_type": "execute_result"
    }
   ],
   "source": [
    "columns_to_drop = ['Ticket', 'Name', 'Title', 'SibSp', 'Parch', 'Sex', 'Cabin', 'Embarked', 'Cabin_name']\n",
    "all_data = all_data.drop(columns_to_drop, axis=1)\n",
    "all_data.head()"
   ]
  },
  {
   "cell_type": "markdown",
   "metadata": {},
   "source": [
    "# Data visualization"
   ]
  },
  {
   "cell_type": "code",
   "execution_count": 15,
   "metadata": {
    "ExecuteTime": {
     "end_time": "2020-05-17T14:07:02.772235Z",
     "start_time": "2020-05-17T14:07:00.299707Z"
    },
    "scrolled": false
   },
   "outputs": [
    {
     "data": {
      "image/png": "[encoded data removed]",
      "text/plain": [
       "<Figure size 1440x576 with 1 Axes>"
      ]
     },
     "metadata": {
      "needs_background": "light"
     },
     "output_type": "display_data"
    },
    {
     "data": {
      "image/png": "[encoded data removed]",
      "text/plain": [
       "<Figure size 1440x576 with 1 Axes>"
      ]
     },
     "metadata": {
      "needs_background": "light"
     },
     "output_type": "display_data"
    },
    {
     "data": {
      "image/png": "[encoded data removed]",
      "text/plain": [
       "<Figure size 1440x576 with 1 Axes>"
      ]
     },
     "metadata": {
      "needs_background": "light"
     },
     "output_type": "display_data"
    },
    {
     "data": {
      "image/png": "[encoded data removed]",
      "text/plain": [
       "<Figure size 1440x576 with 1 Axes>"
      ]
     },
     "metadata": {
      "needs_background": "light"
     },
     "output_type": "display_data"
    },
    {
     "data": {
      "image/png": "[encoded data removed]",
      "text/plain": [
       "<Figure size 1440x576 with 1 Axes>"
      ]
     },
     "metadata": {
      "needs_background": "light"
     },
     "output_type": "display_data"
    },
    {
     "data": {
      "image/png": "[encoded data removed]",
      "text/plain": [
       "<Figure size 1440x576 with 1 Axes>"
      ]
     },
     "metadata": {
      "needs_background": "light"
     },
     "output_type": "display_data"
    }
   ],
   "source": [
    "regularizable_column = columns.drop(['Name', 'Sex', 'Embarked'])\n",
    "for col in regularizable_column:\n",
    "    plt.figure(figsize=(20,8))\n",
    "    sns.regplot(x = data[col], y = target_data)"
   ]
  },
  {
   "cell_type": "markdown",
   "metadata": {},
   "source": [
    " - Survived vs Pclass -> Pclass with 0 has more rate\n",
    " - Survived vs Age    -> Age has a bit of -ve correlation with Survived\n",
    " - Survived vs Fare   -> There is good +ve correlation\n",
    " - Survived vs Sex_Cat-> Female had more chances of survival\n",
    " - Survived vs Embarked_cat -> Embarked cat of 0 has more survival rate\n",
    " - Survived vs Family_member-> it kind of has no correlation"
   ]
  },
  {
   "cell_type": "code",
   "execution_count": 16,
   "metadata": {
    "ExecuteTime": {
     "end_time": "2020-05-17T14:07:06.012943Z",
     "start_time": "2020-05-17T14:07:04.875732Z"
    }
   },
   "outputs": [
    {
     "data": {
      "image/png": "[encoded data removed]",
      "text/plain": [
       "<Figure size 720x288 with 1 Axes>"
      ]
     },
     "metadata": {
      "needs_background": "light"
     },
     "output_type": "display_data"
    },
    {
     "data": {
      "image/png": "[encoded data removed]",
      "text/plain": [
       "<Figure size 720x288 with 1 Axes>"
      ]
     },
     "metadata": {
      "needs_background": "light"
     },
     "output_type": "display_data"
    },
    {
     "data": {
      "image/png": "[encoded data removed]",
      "text/plain": [
       "<Figure size 720x288 with 1 Axes>"
      ]
     },
     "metadata": {
      "needs_background": "light"
     },
     "output_type": "display_data"
    },
    {
     "data": {
      "image/png": "[encoded data removed]",
      "text/plain": [
       "<Figure size 720x288 with 1 Axes>"
      ]
     },
     "metadata": {
      "needs_background": "light"
     },
     "output_type": "display_data"
    },
    {
     "data": {
      "image/png": "[encoded data removed]",
      "text/plain": [
       "<Figure size 720x288 with 1 Axes>"
      ]
     },
     "metadata": {
      "needs_background": "light"
     },
     "output_type": "display_data"
    },
    {
     "data": {
      "image/png": "[encoded data removed]",
      "text/plain": [
       "<Figure size 720x288 with 1 Axes>"
      ]
     },
     "metadata": {
      "needs_background": "light"
     },
     "output_type": "display_data"
    }
   ],
   "source": [
    "for col in regularizable_column:\n",
    "    plt.figure(figsize=(10,4))\n",
    "    sns.barplot(x = target_data, y = data[col])"
   ]
  },
  {
   "cell_type": "code",
   "execution_count": 17,
   "metadata": {
    "ExecuteTime": {
     "end_time": "2020-05-17T14:07:07.990148Z",
     "start_time": "2020-05-17T14:07:07.948730Z"
    }
   },
   "outputs": [
    {
     "name": "stderr",
     "output_type": "stream",
     "text": [
      "/home/sbjr/my_bin/anaconda3/envs/tf-gpu/lib/python3.7/site-packages/ipykernel_launcher.py:2: SettingWithCopyWarning: \n",
      "A value is trying to be set on a copy of a slice from a DataFrame.\n",
      "Try using .loc[row_indexer,col_indexer] = value instead\n",
      "\n",
      "See the caveats in the documentation: https://pandas.pydata.org/pandas-docs/stable/user_guide/indexing.html#returning-a-view-versus-a-copy\n",
      "  \n"
     ]
    },
    {
     "data": {
      "text/html": [
       "<div>\n",
       "<style scoped>\n",
       "    .dataframe tbody tr th:only-of-type {\n",
       "        vertical-align: middle;\n",
       "    }\n",
       "\n",
       "    .dataframe tbody tr th {\n",
       "        vertical-align: top;\n",
       "    }\n",
       "\n",
       "    .dataframe thead th {\n",
       "        text-align: right;\n",
       "    }\n",
       "</style>\n",
       "<table border=\"1\" class=\"dataframe\">\n",
       "  <thead>\n",
       "    <tr style=\"text-align: right;\">\n",
       "      <th></th>\n",
       "      <th>Pclass</th>\n",
       "      <th>Age</th>\n",
       "      <th>Fare</th>\n",
       "      <th>Sex_category</th>\n",
       "      <th>Embarked_category</th>\n",
       "      <th>Family_member</th>\n",
       "      <th>Survived</th>\n",
       "    </tr>\n",
       "    <tr>\n",
       "      <th>PassengerId</th>\n",
       "      <th></th>\n",
       "      <th></th>\n",
       "      <th></th>\n",
       "      <th></th>\n",
       "      <th></th>\n",
       "      <th></th>\n",
       "      <th></th>\n",
       "    </tr>\n",
       "  </thead>\n",
       "  <tbody>\n",
       "    <tr>\n",
       "      <th>806</th>\n",
       "      <td>3</td>\n",
       "      <td>31.0</td>\n",
       "      <td>7.7750</td>\n",
       "      <td>1</td>\n",
       "      <td>2</td>\n",
       "      <td>0</td>\n",
       "      <td>0</td>\n",
       "    </tr>\n",
       "    <tr>\n",
       "      <th>599</th>\n",
       "      <td>3</td>\n",
       "      <td>NaN</td>\n",
       "      <td>7.2250</td>\n",
       "      <td>1</td>\n",
       "      <td>0</td>\n",
       "      <td>0</td>\n",
       "      <td>0</td>\n",
       "    </tr>\n",
       "    <tr>\n",
       "      <th>421</th>\n",
       "      <td>3</td>\n",
       "      <td>NaN</td>\n",
       "      <td>7.8958</td>\n",
       "      <td>1</td>\n",
       "      <td>0</td>\n",
       "      <td>0</td>\n",
       "      <td>0</td>\n",
       "    </tr>\n",
       "    <tr>\n",
       "      <th>14</th>\n",
       "      <td>3</td>\n",
       "      <td>39.0</td>\n",
       "      <td>31.2750</td>\n",
       "      <td>1</td>\n",
       "      <td>2</td>\n",
       "      <td>6</td>\n",
       "      <td>0</td>\n",
       "    </tr>\n",
       "    <tr>\n",
       "      <th>770</th>\n",
       "      <td>3</td>\n",
       "      <td>32.0</td>\n",
       "      <td>8.3625</td>\n",
       "      <td>1</td>\n",
       "      <td>2</td>\n",
       "      <td>0</td>\n",
       "      <td>0</td>\n",
       "    </tr>\n",
       "    <tr>\n",
       "      <th>165</th>\n",
       "      <td>3</td>\n",
       "      <td>1.0</td>\n",
       "      <td>39.6875</td>\n",
       "      <td>1</td>\n",
       "      <td>2</td>\n",
       "      <td>5</td>\n",
       "      <td>0</td>\n",
       "    </tr>\n",
       "    <tr>\n",
       "      <th>445</th>\n",
       "      <td>3</td>\n",
       "      <td>NaN</td>\n",
       "      <td>8.1125</td>\n",
       "      <td>1</td>\n",
       "      <td>2</td>\n",
       "      <td>0</td>\n",
       "      <td>1</td>\n",
       "    </tr>\n",
       "    <tr>\n",
       "      <th>824</th>\n",
       "      <td>3</td>\n",
       "      <td>27.0</td>\n",
       "      <td>12.4750</td>\n",
       "      <td>0</td>\n",
       "      <td>2</td>\n",
       "      <td>1</td>\n",
       "      <td>1</td>\n",
       "    </tr>\n",
       "    <tr>\n",
       "      <th>216</th>\n",
       "      <td>1</td>\n",
       "      <td>31.0</td>\n",
       "      <td>113.2750</td>\n",
       "      <td>0</td>\n",
       "      <td>0</td>\n",
       "      <td>1</td>\n",
       "      <td>1</td>\n",
       "    </tr>\n",
       "    <tr>\n",
       "      <th>496</th>\n",
       "      <td>3</td>\n",
       "      <td>NaN</td>\n",
       "      <td>14.4583</td>\n",
       "      <td>1</td>\n",
       "      <td>0</td>\n",
       "      <td>0</td>\n",
       "      <td>0</td>\n",
       "    </tr>\n",
       "  </tbody>\n",
       "</table>\n",
       "</div>"
      ],
      "text/plain": [
       "             Pclass   Age      Fare  Sex_category  Embarked_category  \\\n",
       "PassengerId                                                            \n",
       "806               3  31.0    7.7750             1                  2   \n",
       "599               3   NaN    7.2250             1                  0   \n",
       "421               3   NaN    7.8958             1                  0   \n",
       "14                3  39.0   31.2750             1                  2   \n",
       "770               3  32.0    8.3625             1                  2   \n",
       "165               3   1.0   39.6875             1                  2   \n",
       "445               3   NaN    8.1125             1                  2   \n",
       "824               3  27.0   12.4750             0                  2   \n",
       "216               1  31.0  113.2750             0                  0   \n",
       "496               3   NaN   14.4583             1                  0   \n",
       "\n",
       "             Family_member  Survived  \n",
       "PassengerId                           \n",
       "806                      0         0  \n",
       "599                      0         0  \n",
       "421                      0         0  \n",
       "14                       6         0  \n",
       "770                      0         0  \n",
       "165                      5         0  \n",
       "445                      0         1  \n",
       "824                      1         1  \n",
       "216                      1         1  \n",
       "496                      0         0  "
      ]
     },
     "execution_count": 17,
     "metadata": {},
     "output_type": "execute_result"
    }
   ],
   "source": [
    "heatmap_data = data[regularizable_column]\n",
    "heatmap_data[label] = target_data\n",
    "heatmap_data.sample(10)"
   ]
  },
  {
   "cell_type": "code",
   "execution_count": 18,
   "metadata": {
    "ExecuteTime": {
     "end_time": "2020-05-17T14:07:09.678877Z",
     "start_time": "2020-05-17T14:07:09.263091Z"
    }
   },
   "outputs": [
    {
     "data": {
      "text/plain": [
       "<matplotlib.axes._subplots.AxesSubplot at 0x7f166a4b6450>"
      ]
     },
     "execution_count": 18,
     "metadata": {},
     "output_type": "execute_result"
    },
    {
     "data": {
      "image/png": "[encoded data removed]",
      "text/plain": [
       "<Figure size 1440x720 with 2 Axes>"
      ]
     },
     "metadata": {
      "needs_background": "light"
     },
     "output_type": "display_data"
    }
   ],
   "source": [
    "plt.figure(figsize=(20,10))\n",
    "sns.heatmap(heatmap_data.corr(),annot=True, fmt='0.1f', cmap='coolwarm', square=True, linewidths=1)"
   ]
  },
  {
   "cell_type": "markdown",
   "metadata": {},
   "source": [
    "# Model Creation"
   ]
  },
  {
   "cell_type": "markdown",
   "metadata": {},
   "source": [
    "as we can see from the correlation map that except from Family_member column, others have either a nice amount of correlation."
   ]
  },
  {
   "cell_type": "code",
   "execution_count": 19,
   "metadata": {
    "ExecuteTime": {
     "end_time": "2020-05-17T14:07:11.372754Z",
     "start_time": "2020-05-17T14:07:11.370024Z"
    }
   },
   "outputs": [],
   "source": [
    "columns = regularizable_column.drop('Family_member')"
   ]
  },
  {
   "cell_type": "code",
   "execution_count": 20,
   "metadata": {
    "ExecuteTime": {
     "end_time": "2020-05-17T14:07:11.741788Z",
     "start_time": "2020-05-17T14:07:11.738867Z"
    }
   },
   "outputs": [
    {
     "name": "stdout",
     "output_type": "stream",
     "text": [
      "Index(['Pclass', 'Age', 'Fare', 'Sex_category', 'Embarked_category'], dtype='object')\n"
     ]
    }
   ],
   "source": [
    "print(columns)"
   ]
  },
  {
   "cell_type": "code",
   "execution_count": 53,
   "metadata": {
    "ExecuteTime": {
     "end_time": "2020-05-17T14:24:47.967025Z",
     "start_time": "2020-05-17T14:24:47.964603Z"
    }
   },
   "outputs": [],
   "source": [
    "from tensorflow.keras import Sequential\n",
    "from tensorflow.keras.layers import Dense"
   ]
  },
  {
   "cell_type": "code",
   "execution_count": 54,
   "metadata": {
    "ExecuteTime": {
     "end_time": "2020-05-17T14:24:50.336054Z",
     "start_time": "2020-05-17T14:24:50.333209Z"
    }
   },
   "outputs": [
    {
     "name": "stdout",
     "output_type": "stream",
     "text": [
      "5\n"
     ]
    }
   ],
   "source": [
    "n_features = len(columns)\n",
    "print(n_features)"
   ]
  },
  {
   "cell_type": "code",
   "execution_count": 55,
   "metadata": {
    "ExecuteTime": {
     "end_time": "2020-05-17T14:25:13.441815Z",
     "start_time": "2020-05-17T14:25:13.438293Z"
    }
   },
   "outputs": [
    {
     "name": "stdout",
     "output_type": "stream",
     "text": [
      "PassengerId\n",
      "1     0\n",
      "2     1\n",
      "3     1\n",
      "4     1\n",
      "5     0\n",
      "6     0\n",
      "7     0\n",
      "8     0\n",
      "9     1\n",
      "10    1\n",
      "Name: Survived, dtype: int64\n"
     ]
    }
   ],
   "source": [
    "print(target_data[:10])"
   ]
  },
  {
   "cell_type": "code",
   "execution_count": 95,
   "metadata": {
    "ExecuteTime": {
     "end_time": "2020-05-17T14:41:26.044768Z",
     "start_time": "2020-05-17T14:41:26.038475Z"
    }
   },
   "outputs": [],
   "source": [
    "train_len = int(0.7 * len(data))\n",
    "X = data[columns].copy()\n",
    "y = target_data.copy()\n",
    "X_train = X[:train_len]\n",
    "y_train = y[:train_len]\n",
    "X_val = X[train_len:]\n",
    "y_val = y[train_len:]"
   ]
  },
  {
   "cell_type": "code",
   "execution_count": 96,
   "metadata": {
    "ExecuteTime": {
     "end_time": "2020-05-17T14:41:27.832324Z",
     "start_time": "2020-05-17T14:41:27.828896Z"
    }
   },
   "outputs": [
    {
     "name": "stdout",
     "output_type": "stream",
     "text": [
      "Shape of train set x: (623, 5), y: (623,)\n",
      "Shape of validation set x: (268, 5), y: (268,)\n"
     ]
    }
   ],
   "source": [
    "print('Shape of train set x: '+ str(X_train.shape)+', y: '+ str(y_train.shape))\n",
    "print('Shape of validation set x: '+ str(X_val.shape)+', y: '+ str(y_val.shape))"
   ]
  },
  {
   "cell_type": "code",
   "execution_count": 97,
   "metadata": {
    "ExecuteTime": {
     "end_time": "2020-05-17T14:41:29.563130Z",
     "start_time": "2020-05-17T14:41:29.554570Z"
    }
   },
   "outputs": [
    {
     "name": "stdout",
     "output_type": "stream",
     "text": [
      "             Pclass        Age     Fare  Sex_category  Embarked_category\n",
      "PassengerId                                                             \n",
      "1                 3  22.000000   7.2500             1                  2\n",
      "2                 1  38.000000  71.2833             0                  0\n",
      "3                 3  26.000000   7.9250             0                  2\n",
      "4                 1  35.000000  53.1000             0                  2\n",
      "5                 3  35.000000   8.0500             1                  2\n",
      "...             ...        ...      ...           ...                ...\n",
      "614               3  29.699118   7.7500             1                  1\n",
      "615               3  35.000000   8.0500             1                  2\n",
      "616               2  24.000000  65.0000             0                  2\n",
      "617               3  34.000000  14.4000             1                  2\n",
      "618               3  26.000000  16.1000             0                  2\n",
      "\n",
      "[618 rows x 5 columns]\n",
      "PassengerId\n",
      "1      0\n",
      "2      1\n",
      "3      1\n",
      "4      1\n",
      "5      0\n",
      "      ..\n",
      "614    0\n",
      "615    0\n",
      "616    1\n",
      "617    0\n",
      "618    0\n",
      "Name: Survived, Length: 618, dtype: int64\n"
     ]
    }
   ],
   "source": [
    "print(X_train[:-5])\n",
    "print(y_train[:-5])"
   ]
  },
  {
   "cell_type": "markdown",
   "metadata": {},
   "source": [
    "## Logistic regression"
   ]
  },
  {
   "cell_type": "code",
   "execution_count": 110,
   "metadata": {
    "ExecuteTime": {
     "end_time": "2020-05-17T14:43:26.265327Z",
     "start_time": "2020-05-17T14:43:26.249084Z"
    }
   },
   "outputs": [],
   "source": [
    "model_lr = Sequential()\n",
    "model_lr.add(Dense(1, input_dim = n_features, activation='sigmoid'))"
   ]
  },
  {
   "cell_type": "code",
   "execution_count": 123,
   "metadata": {
    "ExecuteTime": {
     "end_time": "2020-05-17T14:48:00.181591Z",
     "start_time": "2020-05-17T14:48:00.128295Z"
    }
   },
   "outputs": [],
   "source": [
    "model_lr.compile(optimizer='adam', loss='binary_crossentropy', metrics=['accuracy'])"
   ]
  },
  {
   "cell_type": "code",
   "execution_count": 124,
   "metadata": {
    "ExecuteTime": {
     "end_time": "2020-05-17T14:48:06.860851Z",
     "start_time": "2020-05-17T14:48:00.566215Z"
    }
   },
   "outputs": [
    {
     "name": "stdout",
     "output_type": "stream",
     "text": [
      "Train on 623 samples\n",
      "Epoch 1/100\n",
      "623/623 [==============================] - 0s 604us/sample - loss: 0.8102 - accuracy: 0.7127\n",
      "Epoch 2/100\n",
      "623/623 [==============================] - 0s 92us/sample - loss: 0.7264 - accuracy: 0.7287\n",
      "Epoch 3/100\n",
      "623/623 [==============================] - 0s 88us/sample - loss: 0.6588 - accuracy: 0.7544\n",
      "Epoch 4/100\n",
      "623/623 [==============================] - 0s 81us/sample - loss: 0.6040 - accuracy: 0.7624\n",
      "Epoch 5/100\n",
      "623/623 [==============================] - 0s 89us/sample - loss: 0.5574 - accuracy: 0.7817\n",
      "Epoch 6/100\n",
      "623/623 [==============================] - 0s 88us/sample - loss: 0.5289 - accuracy: 0.7769\n",
      "Epoch 7/100\n",
      "623/623 [==============================] - 0s 92us/sample - loss: 0.5090 - accuracy: 0.7785\n",
      "Epoch 8/100\n",
      "623/623 [==============================] - 0s 87us/sample - loss: 0.4983 - accuracy: 0.7801\n",
      "Epoch 9/100\n",
      "623/623 [==============================] - 0s 87us/sample - loss: 0.4953 - accuracy: 0.7801\n",
      "Epoch 10/100\n",
      "623/623 [==============================] - 0s 86us/sample - loss: 0.4952 - accuracy: 0.7801\n",
      "Epoch 11/100\n",
      "623/623 [==============================] - 0s 81us/sample - loss: 0.4941 - accuracy: 0.7817\n",
      "Epoch 12/100\n",
      "623/623 [==============================] - 0s 82us/sample - loss: 0.4944 - accuracy: 0.7865\n",
      "Epoch 13/100\n",
      "623/623 [==============================] - 0s 174us/sample - loss: 0.4950 - accuracy: 0.7849\n",
      "Epoch 14/100\n",
      "623/623 [==============================] - 0s 244us/sample - loss: 0.4936 - accuracy: 0.7849\n",
      "Epoch 15/100\n",
      "623/623 [==============================] - 0s 93us/sample - loss: 0.4918 - accuracy: 0.7865\n",
      "Epoch 16/100\n",
      "623/623 [==============================] - 0s 100us/sample - loss: 0.4922 - accuracy: 0.7817\n",
      "Epoch 17/100\n",
      "623/623 [==============================] - 0s 78us/sample - loss: 0.4928 - accuracy: 0.7801\n",
      "Epoch 18/100\n",
      "623/623 [==============================] - 0s 93us/sample - loss: 0.4918 - accuracy: 0.7897\n",
      "Epoch 19/100\n",
      "623/623 [==============================] - 0s 87us/sample - loss: 0.4933 - accuracy: 0.7817\n",
      "Epoch 20/100\n",
      "623/623 [==============================] - 0s 96us/sample - loss: 0.4909 - accuracy: 0.7849\n",
      "Epoch 21/100\n",
      "623/623 [==============================] - 0s 105us/sample - loss: 0.4914 - accuracy: 0.7881\n",
      "Epoch 22/100\n",
      "623/623 [==============================] - 0s 78us/sample - loss: 0.4911 - accuracy: 0.7817\n",
      "Epoch 23/100\n",
      "623/623 [==============================] - 0s 81us/sample - loss: 0.4904 - accuracy: 0.7817\n",
      "Epoch 24/100\n",
      "623/623 [==============================] - 0s 95us/sample - loss: 0.4906 - accuracy: 0.7849\n",
      "Epoch 25/100\n",
      "623/623 [==============================] - 0s 87us/sample - loss: 0.4900 - accuracy: 0.7833\n",
      "Epoch 26/100\n",
      "623/623 [==============================] - 0s 84us/sample - loss: 0.4898 - accuracy: 0.7817\n",
      "Epoch 27/100\n",
      "623/623 [==============================] - 0s 90us/sample - loss: 0.4899 - accuracy: 0.7865\n",
      "Epoch 28/100\n",
      "623/623 [==============================] - 0s 88us/sample - loss: 0.4897 - accuracy: 0.7849\n",
      "Epoch 29/100\n",
      "623/623 [==============================] - 0s 112us/sample - loss: 0.4893 - accuracy: 0.7801\n",
      "Epoch 30/100\n",
      "623/623 [==============================] - 0s 75us/sample - loss: 0.4896 - accuracy: 0.7817\n",
      "Epoch 31/100\n",
      "623/623 [==============================] - 0s 97us/sample - loss: 0.4892 - accuracy: 0.7801\n",
      "Epoch 32/100\n",
      "623/623 [==============================] - 0s 94us/sample - loss: 0.4911 - accuracy: 0.7801\n",
      "Epoch 33/100\n",
      "623/623 [==============================] - 0s 84us/sample - loss: 0.4897 - accuracy: 0.7881\n",
      "Epoch 34/100\n",
      "623/623 [==============================] - 0s 83us/sample - loss: 0.4881 - accuracy: 0.7833\n",
      "Epoch 35/100\n",
      "623/623 [==============================] - 0s 128us/sample - loss: 0.4883 - accuracy: 0.7833\n",
      "Epoch 36/100\n",
      "623/623 [==============================] - 0s 92us/sample - loss: 0.4889 - accuracy: 0.7849\n",
      "Epoch 37/100\n",
      "623/623 [==============================] - 0s 106us/sample - loss: 0.4878 - accuracy: 0.7881\n",
      "Epoch 38/100\n",
      "623/623 [==============================] - 0s 84us/sample - loss: 0.4881 - accuracy: 0.7833\n",
      "Epoch 39/100\n",
      "623/623 [==============================] - 0s 138us/sample - loss: 0.4888 - accuracy: 0.7801\n",
      "Epoch 40/100\n",
      "623/623 [==============================] - 0s 110us/sample - loss: 0.4878 - accuracy: 0.7897\n",
      "Epoch 41/100\n",
      "623/623 [==============================] - 0s 80us/sample - loss: 0.4886 - accuracy: 0.7881\n",
      "Epoch 42/100\n",
      "623/623 [==============================] - 0s 108us/sample - loss: 0.4865 - accuracy: 0.7849\n",
      "Epoch 43/100\n",
      "623/623 [==============================] - 0s 78us/sample - loss: 0.4885 - accuracy: 0.7801\n",
      "Epoch 44/100\n",
      "623/623 [==============================] - 0s 94us/sample - loss: 0.4870 - accuracy: 0.7817\n",
      "Epoch 45/100\n",
      "623/623 [==============================] - 0s 84us/sample - loss: 0.4953 - accuracy: 0.7897\n",
      "Epoch 46/100\n",
      "623/623 [==============================] - 0s 85us/sample - loss: 0.4886 - accuracy: 0.7801\n",
      "Epoch 47/100\n",
      "623/623 [==============================] - 0s 93us/sample - loss: 0.4865 - accuracy: 0.7865\n",
      "Epoch 48/100\n",
      "623/623 [==============================] - 0s 93us/sample - loss: 0.4871 - accuracy: 0.7865\n",
      "Epoch 49/100\n",
      "623/623 [==============================] - 0s 89us/sample - loss: 0.4866 - accuracy: 0.7849\n",
      "Epoch 50/100\n",
      "623/623 [==============================] - 0s 85us/sample - loss: 0.4881 - accuracy: 0.7817\n",
      "Epoch 51/100\n",
      "623/623 [==============================] - 0s 78us/sample - loss: 0.4862 - accuracy: 0.7817\n",
      "Epoch 52/100\n",
      "623/623 [==============================] - 0s 83us/sample - loss: 0.4881 - accuracy: 0.7801\n",
      "Epoch 53/100\n",
      "623/623 [==============================] - 0s 114us/sample - loss: 0.4881 - accuracy: 0.7849\n",
      "Epoch 54/100\n",
      "623/623 [==============================] - 0s 101us/sample - loss: 0.4860 - accuracy: 0.7817\n",
      "Epoch 55/100\n",
      "623/623 [==============================] - 0s 82us/sample - loss: 0.4851 - accuracy: 0.7817\n",
      "Epoch 56/100\n",
      "623/623 [==============================] - 0s 86us/sample - loss: 0.4878 - accuracy: 0.7881\n",
      "Epoch 57/100\n",
      "623/623 [==============================] - 0s 76us/sample - loss: 0.4854 - accuracy: 0.7817\n",
      "Epoch 58/100\n",
      "623/623 [==============================] - 0s 72us/sample - loss: 0.4859 - accuracy: 0.7833\n",
      "Epoch 59/100\n",
      "623/623 [==============================] - 0s 82us/sample - loss: 0.4851 - accuracy: 0.7865\n",
      "Epoch 60/100\n",
      "623/623 [==============================] - 0s 74us/sample - loss: 0.4849 - accuracy: 0.7801\n",
      "Epoch 61/100\n",
      "623/623 [==============================] - 0s 86us/sample - loss: 0.4850 - accuracy: 0.7817\n",
      "Epoch 62/100\n",
      "623/623 [==============================] - 0s 77us/sample - loss: 0.4848 - accuracy: 0.7817\n",
      "Epoch 63/100\n",
      "623/623 [==============================] - 0s 79us/sample - loss: 0.4855 - accuracy: 0.7881\n",
      "Epoch 64/100\n",
      "623/623 [==============================] - 0s 81us/sample - loss: 0.4853 - accuracy: 0.7801\n",
      "Epoch 65/100\n",
      "623/623 [==============================] - 0s 93us/sample - loss: 0.4849 - accuracy: 0.7833\n",
      "Epoch 66/100\n",
      "623/623 [==============================] - 0s 84us/sample - loss: 0.4844 - accuracy: 0.7833\n",
      "Epoch 67/100\n",
      "623/623 [==============================] - 0s 75us/sample - loss: 0.4850 - accuracy: 0.7801\n",
      "Epoch 68/100\n",
      "623/623 [==============================] - 0s 77us/sample - loss: 0.4849 - accuracy: 0.7897\n",
      "Epoch 69/100\n",
      "623/623 [==============================] - 0s 85us/sample - loss: 0.4845 - accuracy: 0.7849\n",
      "Epoch 70/100\n",
      "623/623 [==============================] - 0s 73us/sample - loss: 0.4864 - accuracy: 0.7817\n",
      "Epoch 71/100\n",
      "623/623 [==============================] - 0s 83us/sample - loss: 0.4857 - accuracy: 0.7897\n",
      "Epoch 72/100\n",
      "623/623 [==============================] - 0s 74us/sample - loss: 0.4865 - accuracy: 0.7801\n",
      "Epoch 73/100\n",
      "623/623 [==============================] - 0s 83us/sample - loss: 0.4844 - accuracy: 0.7849\n",
      "Epoch 74/100\n",
      "623/623 [==============================] - 0s 75us/sample - loss: 0.4843 - accuracy: 0.7849\n",
      "Epoch 75/100\n",
      "623/623 [==============================] - 0s 84us/sample - loss: 0.4841 - accuracy: 0.7801\n",
      "Epoch 76/100\n",
      "623/623 [==============================] - 0s 118us/sample - loss: 0.4835 - accuracy: 0.7865\n",
      "Epoch 77/100\n",
      "623/623 [==============================] - 0s 171us/sample - loss: 0.4835 - accuracy: 0.7865\n",
      "Epoch 78/100\n",
      "623/623 [==============================] - 0s 130us/sample - loss: 0.4836 - accuracy: 0.7865\n",
      "Epoch 79/100\n",
      "623/623 [==============================] - 0s 84us/sample - loss: 0.4832 - accuracy: 0.7817\n",
      "Epoch 80/100\n",
      "623/623 [==============================] - 0s 75us/sample - loss: 0.4840 - accuracy: 0.7833\n",
      "Epoch 81/100\n",
      "623/623 [==============================] - 0s 86us/sample - loss: 0.4840 - accuracy: 0.7865\n",
      "Epoch 82/100\n",
      "623/623 [==============================] - 0s 76us/sample - loss: 0.4839 - accuracy: 0.7817\n",
      "Epoch 83/100\n",
      "623/623 [==============================] - 0s 76us/sample - loss: 0.4835 - accuracy: 0.7849\n",
      "Epoch 84/100\n",
      "623/623 [==============================] - 0s 143us/sample - loss: 0.4835 - accuracy: 0.7897\n",
      "Epoch 85/100\n",
      "623/623 [==============================] - 0s 133us/sample - loss: 0.4837 - accuracy: 0.7801\n",
      "Epoch 86/100\n",
      "623/623 [==============================] - 0s 106us/sample - loss: 0.4834 - accuracy: 0.7833\n",
      "Epoch 87/100\n",
      "623/623 [==============================] - 0s 78us/sample - loss: 0.4827 - accuracy: 0.7801\n",
      "Epoch 88/100\n",
      "623/623 [==============================] - 0s 143us/sample - loss: 0.4828 - accuracy: 0.7881\n",
      "Epoch 89/100\n",
      "623/623 [==============================] - 0s 159us/sample - loss: 0.4830 - accuracy: 0.7817\n",
      "Epoch 90/100\n",
      "623/623 [==============================] - 0s 122us/sample - loss: 0.4824 - accuracy: 0.7881\n",
      "Epoch 91/100\n",
      "623/623 [==============================] - 0s 100us/sample - loss: 0.4844 - accuracy: 0.7897\n",
      "Epoch 92/100\n",
      "623/623 [==============================] - 0s 108us/sample - loss: 0.4833 - accuracy: 0.7801\n",
      "Epoch 93/100\n",
      "623/623 [==============================] - 0s 75us/sample - loss: 0.4840 - accuracy: 0.7865\n",
      "Epoch 94/100\n",
      "623/623 [==============================] - 0s 85us/sample - loss: 0.4832 - accuracy: 0.7801\n",
      "Epoch 95/100\n",
      "623/623 [==============================] - 0s 73us/sample - loss: 0.4826 - accuracy: 0.7897\n",
      "Epoch 96/100\n",
      "623/623 [==============================] - 0s 83us/sample - loss: 0.4825 - accuracy: 0.7817\n",
      "Epoch 97/100\n",
      "623/623 [==============================] - 0s 78us/sample - loss: 0.4839 - accuracy: 0.7849\n",
      "Epoch 98/100\n",
      "623/623 [==============================] - 0s 74us/sample - loss: 0.4818 - accuracy: 0.7833\n",
      "Epoch 99/100\n",
      "623/623 [==============================] - 0s 78us/sample - loss: 0.4823 - accuracy: 0.7817\n",
      "Epoch 100/100\n",
      "623/623 [==============================] - 0s 90us/sample - loss: 0.4825 - accuracy: 0.7865\n"
     ]
    }
   ],
   "source": [
    "metric_lr = model_lr.fit(X_train.values, y_train.values, epochs=100, batch_size=32, verbose = 1)"
   ]
  },
  {
   "cell_type": "code",
   "execution_count": 114,
   "metadata": {
    "ExecuteTime": {
     "end_time": "2020-05-17T14:43:53.949922Z",
     "start_time": "2020-05-17T14:43:53.830289Z"
    }
   },
   "outputs": [
    {
     "name": "stdout",
     "output_type": "stream",
     "text": [
      "\r",
      "268/1 [========================================================================================================================================================================================================================================================================================================================================================================================================================================================================================================================================================================================================================================================================================================================================================================================================================================================================================================================================================================================================================================================================================================================================================================================================================================================================================================================================================================================================================================================================================================================================================================================================================================================================================================================================================================================================================================================================================================================================================================================================================================================================================================================================================================================================================================================================================================================================================================================================================================================================================================================================================================================================================================================================================================================================================================================================================================================================================================================================================================================================================================================================================================================================================================================================================================================================================================================================================================================================================================================================================================================================================================================================================================================================================================================================================================================================================================================================================================================================================================================================================================================================================================================================================================================================================================================================================================================================================================================================================================================================================================================================================================================================================================================================================================================================================================================================================================================================================================================================================================================================================================================================================================================================================================================================================================================================================================================================================================================================================================================================================================================================================================================================================================================================================================================================================================================================================================================================================================================================================================================================================================================================================================================================================================================================================================================================================================================================================================================================================================================================================================================================================================================================================================================================================================================================================================================================================================================================================================================================================================================================================================================================================================================================================================================================================================================================================================================================================================================================================================================================================================================================================================================================================================================================================================================================================================================================================================================================================================================================================================================================================================================================================================================================================================================================================================================================================================================================================================] - 0s 308us/sample - loss: 0.4806 - accuracy: 0.7873\n"
     ]
    },
    {
     "data": {
      "text/plain": [
       "[0.46783036838716535, 0.78731346]"
      ]
     },
     "execution_count": 114,
     "metadata": {},
     "output_type": "execute_result"
    }
   ],
   "source": [
    "model_lr.evaluate(X_val.values, y_val.values, verbose=1)"
   ]
  },
  {
   "cell_type": "markdown",
   "metadata": {},
   "source": [
    "## Deep Dense network"
   ]
  },
  {
   "cell_type": "code",
   "execution_count": 115,
   "metadata": {
    "ExecuteTime": {
     "end_time": "2020-05-17T14:44:28.202768Z",
     "start_time": "2020-05-17T14:44:28.197886Z"
    }
   },
   "outputs": [],
   "source": [
    "model_deep = Sequential()"
   ]
  },
  {
   "cell_type": "code",
   "execution_count": 118,
   "metadata": {
    "ExecuteTime": {
     "end_time": "2020-05-17T14:46:13.336841Z",
     "start_time": "2020-05-17T14:46:13.269092Z"
    }
   },
   "outputs": [],
   "source": [
    "model_deep.add(Dense(10, input_dim=n_features,activation='relu', kernel_initializer='he_normal'))\n",
    "model_deep.add(Dense(8, activation='relu', kernel_initializer='he_normal'))\n",
    "model_deep.add(Dense(6, activation='relu', kernel_initializer='he_normal'))\n",
    "model_deep.add(Dense(3, activation='relu', kernel_initializer='he_normal'))\n",
    "model_deep.add(Dense(1, activation='sigmoid', kernel_initializer='he_normal'))"
   ]
  },
  {
   "cell_type": "code",
   "execution_count": 119,
   "metadata": {
    "ExecuteTime": {
     "end_time": "2020-05-17T14:47:03.207552Z",
     "start_time": "2020-05-17T14:47:03.160140Z"
    }
   },
   "outputs": [],
   "source": [
    "model_deep.compile(optimizer='adam', loss='binary_crossentropy',metrics=['accuracy'])"
   ]
  },
  {
   "cell_type": "code",
   "execution_count": 120,
   "metadata": {
    "ExecuteTime": {
     "end_time": "2020-05-17T14:47:36.594457Z",
     "start_time": "2020-05-17T14:47:27.787966Z"
    }
   },
   "outputs": [
    {
     "name": "stdout",
     "output_type": "stream",
     "text": [
      "Train on 623 samples\n",
      "Epoch 1/100\n",
      "623/623 [==============================] - 1s 1ms/sample - loss: 0.6857 - accuracy: 0.6437\n",
      "Epoch 2/100\n",
      "623/623 [==============================] - 0s 114us/sample - loss: 0.6825 - accuracy: 0.6726\n",
      "Epoch 3/100\n",
      "623/623 [==============================] - 0s 119us/sample - loss: 0.6786 - accuracy: 0.6758\n",
      "Epoch 4/100\n",
      "623/623 [==============================] - 0s 118us/sample - loss: 0.6737 - accuracy: 0.6549\n",
      "Epoch 5/100\n",
      "623/623 [==============================] - 0s 185us/sample - loss: 0.6684 - accuracy: 0.6645\n",
      "Epoch 6/100\n",
      "623/623 [==============================] - 0s 119us/sample - loss: 0.6647 - accuracy: 0.6549\n",
      "Epoch 7/100\n",
      "623/623 [==============================] - 0s 116us/sample - loss: 0.6609 - accuracy: 0.6549\n",
      "Epoch 8/100\n",
      "623/623 [==============================] - 0s 136us/sample - loss: 0.6602 - accuracy: 0.6404\n",
      "Epoch 9/100\n",
      "623/623 [==============================] - 0s 128us/sample - loss: 0.6566 - accuracy: 0.6661\n",
      "Epoch 10/100\n",
      "623/623 [==============================] - 0s 121us/sample - loss: 0.6475 - accuracy: 0.6437\n",
      "Epoch 11/100\n",
      "623/623 [==============================] - 0s 126us/sample - loss: 0.6368 - accuracy: 0.6453\n",
      "Epoch 12/100\n",
      "623/623 [==============================] - 0s 122us/sample - loss: 0.6311 - accuracy: 0.6629\n",
      "Epoch 13/100\n",
      "623/623 [==============================] - 0s 114us/sample - loss: 0.6288 - accuracy: 0.6629\n",
      "Epoch 14/100\n",
      "623/623 [==============================] - 0s 118us/sample - loss: 0.6249 - accuracy: 0.6613\n",
      "Epoch 15/100\n",
      "623/623 [==============================] - 0s 121us/sample - loss: 0.6263 - accuracy: 0.6565\n",
      "Epoch 16/100\n",
      "623/623 [==============================] - 0s 133us/sample - loss: 0.6243 - accuracy: 0.6613\n",
      "Epoch 17/100\n",
      "623/623 [==============================] - 0s 128us/sample - loss: 0.6336 - accuracy: 0.6581\n",
      "Epoch 18/100\n",
      "623/623 [==============================] - 0s 124us/sample - loss: 0.6245 - accuracy: 0.6565\n",
      "Epoch 19/100\n",
      "623/623 [==============================] - 0s 127us/sample - loss: 0.6212 - accuracy: 0.6693\n",
      "Epoch 20/100\n",
      "623/623 [==============================] - 0s 122us/sample - loss: 0.6194 - accuracy: 0.6677\n",
      "Epoch 21/100\n",
      "623/623 [==============================] - 0s 149us/sample - loss: 0.6180 - accuracy: 0.6661\n",
      "Epoch 22/100\n",
      "623/623 [==============================] - 0s 132us/sample - loss: 0.6157 - accuracy: 0.6629\n",
      "Epoch 23/100\n",
      "623/623 [==============================] - 0s 123us/sample - loss: 0.6156 - accuracy: 0.6629\n",
      "Epoch 24/100\n",
      "623/623 [==============================] - 0s 108us/sample - loss: 0.6170 - accuracy: 0.6645\n",
      "Epoch 25/100\n",
      "623/623 [==============================] - 0s 121us/sample - loss: 0.6132 - accuracy: 0.6661\n",
      "Epoch 26/100\n",
      "623/623 [==============================] - 0s 125us/sample - loss: 0.6111 - accuracy: 0.6597\n",
      "Epoch 27/100\n",
      "623/623 [==============================] - 0s 120us/sample - loss: 0.6094 - accuracy: 0.6645\n",
      "Epoch 28/100\n",
      "623/623 [==============================] - 0s 121us/sample - loss: 0.6073 - accuracy: 0.6709\n",
      "Epoch 29/100\n",
      "623/623 [==============================] - 0s 122us/sample - loss: 0.6090 - accuracy: 0.6726\n",
      "Epoch 30/100\n",
      "623/623 [==============================] - 0s 125us/sample - loss: 0.6058 - accuracy: 0.6693\n",
      "Epoch 31/100\n",
      "623/623 [==============================] - 0s 116us/sample - loss: 0.6068 - accuracy: 0.6709\n",
      "Epoch 32/100\n",
      "623/623 [==============================] - 0s 132us/sample - loss: 0.6023 - accuracy: 0.6774\n",
      "Epoch 33/100\n",
      "623/623 [==============================] - 0s 162us/sample - loss: 0.6014 - accuracy: 0.6806\n",
      "Epoch 34/100\n",
      "623/623 [==============================] - 0s 168us/sample - loss: 0.5992 - accuracy: 0.6806\n",
      "Epoch 35/100\n",
      "623/623 [==============================] - 0s 173us/sample - loss: 0.5924 - accuracy: 0.6838\n",
      "Epoch 36/100\n",
      "623/623 [==============================] - 0s 140us/sample - loss: 0.5877 - accuracy: 0.6822\n",
      "Epoch 37/100\n",
      "623/623 [==============================] - 0s 141us/sample - loss: 0.5845 - accuracy: 0.6854\n",
      "Epoch 38/100\n",
      "623/623 [==============================] - 0s 123us/sample - loss: 0.5869 - accuracy: 0.6806\n",
      "Epoch 39/100\n",
      "623/623 [==============================] - 0s 129us/sample - loss: 0.5768 - accuracy: 0.6966\n",
      "Epoch 40/100\n",
      "623/623 [==============================] - 0s 137us/sample - loss: 0.5693 - accuracy: 0.6998\n",
      "Epoch 41/100\n",
      "623/623 [==============================] - 0s 120us/sample - loss: 0.5822 - accuracy: 0.6870\n",
      "Epoch 42/100\n",
      "623/623 [==============================] - 0s 130us/sample - loss: 0.5746 - accuracy: 0.6902\n",
      "Epoch 43/100\n",
      "623/623 [==============================] - 0s 121us/sample - loss: 0.5645 - accuracy: 0.7095\n",
      "Epoch 44/100\n",
      "623/623 [==============================] - 0s 127us/sample - loss: 0.5576 - accuracy: 0.7159\n",
      "Epoch 45/100\n",
      "623/623 [==============================] - 0s 161us/sample - loss: 0.5564 - accuracy: 0.7143\n",
      "Epoch 46/100\n",
      "623/623 [==============================] - 0s 150us/sample - loss: 0.5492 - accuracy: 0.7111\n",
      "Epoch 47/100\n",
      "623/623 [==============================] - 0s 121us/sample - loss: 0.5475 - accuracy: 0.7143\n",
      "Epoch 48/100\n",
      "623/623 [==============================] - 0s 124us/sample - loss: 0.5505 - accuracy: 0.7030\n",
      "Epoch 49/100\n",
      "623/623 [==============================] - 0s 126us/sample - loss: 0.5380 - accuracy: 0.7448\n",
      "Epoch 50/100\n",
      "623/623 [==============================] - 0s 130us/sample - loss: 0.5358 - accuracy: 0.7255\n",
      "Epoch 51/100\n",
      "623/623 [==============================] - 0s 119us/sample - loss: 0.5371 - accuracy: 0.7384\n",
      "Epoch 52/100\n",
      "623/623 [==============================] - 0s 122us/sample - loss: 0.5302 - accuracy: 0.7432\n",
      "Epoch 53/100\n",
      "623/623 [==============================] - 0s 134us/sample - loss: 0.5305 - accuracy: 0.7384\n",
      "Epoch 54/100\n",
      "623/623 [==============================] - 0s 120us/sample - loss: 0.5182 - accuracy: 0.7496\n",
      "Epoch 55/100\n",
      "623/623 [==============================] - 0s 113us/sample - loss: 0.5173 - accuracy: 0.7448\n",
      "Epoch 56/100\n",
      "623/623 [==============================] - 0s 134us/sample - loss: 0.5155 - accuracy: 0.7448\n",
      "Epoch 57/100\n",
      "623/623 [==============================] - 0s 124us/sample - loss: 0.5180 - accuracy: 0.7496\n",
      "Epoch 58/100\n",
      "623/623 [==============================] - 0s 125us/sample - loss: 0.5208 - accuracy: 0.7480\n",
      "Epoch 59/100\n",
      "623/623 [==============================] - 0s 126us/sample - loss: 0.5111 - accuracy: 0.7512\n",
      "Epoch 60/100\n",
      "623/623 [==============================] - 0s 116us/sample - loss: 0.5161 - accuracy: 0.7448\n",
      "Epoch 61/100\n",
      "623/623 [==============================] - 0s 135us/sample - loss: 0.5234 - accuracy: 0.7352\n",
      "Epoch 62/100\n",
      "623/623 [==============================] - 0s 121us/sample - loss: 0.5035 - accuracy: 0.7608\n",
      "Epoch 63/100\n",
      "623/623 [==============================] - 0s 122us/sample - loss: 0.5163 - accuracy: 0.7400\n",
      "Epoch 64/100\n",
      "623/623 [==============================] - 0s 139us/sample - loss: 0.5225 - accuracy: 0.7368\n",
      "Epoch 65/100\n",
      "623/623 [==============================] - 0s 155us/sample - loss: 0.5004 - accuracy: 0.7528\n",
      "Epoch 66/100\n",
      "623/623 [==============================] - 0s 137us/sample - loss: 0.4964 - accuracy: 0.7608\n",
      "Epoch 67/100\n",
      "623/623 [==============================] - 0s 126us/sample - loss: 0.5022 - accuracy: 0.7608\n",
      "Epoch 68/100\n",
      "623/623 [==============================] - 0s 108us/sample - loss: 0.4938 - accuracy: 0.7705\n",
      "Epoch 69/100\n",
      "623/623 [==============================] - 0s 121us/sample - loss: 0.4937 - accuracy: 0.7673\n",
      "Epoch 70/100\n",
      "623/623 [==============================] - 0s 172us/sample - loss: 0.4903 - accuracy: 0.7640\n",
      "Epoch 71/100\n",
      "623/623 [==============================] - 0s 149us/sample - loss: 0.4868 - accuracy: 0.7769\n",
      "Epoch 72/100\n",
      "623/623 [==============================] - 0s 114us/sample - loss: 0.4915 - accuracy: 0.7689\n",
      "Epoch 73/100\n",
      "623/623 [==============================] - 0s 114us/sample - loss: 0.4892 - accuracy: 0.7657\n",
      "Epoch 74/100\n",
      "623/623 [==============================] - 0s 109us/sample - loss: 0.4943 - accuracy: 0.7705\n",
      "Epoch 75/100\n",
      "623/623 [==============================] - 0s 155us/sample - loss: 0.4853 - accuracy: 0.7737\n",
      "Epoch 76/100\n",
      "623/623 [==============================] - 0s 149us/sample - loss: 0.4893 - accuracy: 0.7705\n",
      "Epoch 77/100\n",
      "623/623 [==============================] - 0s 113us/sample - loss: 0.4904 - accuracy: 0.7785\n",
      "Epoch 78/100\n",
      "623/623 [==============================] - 0s 123us/sample - loss: 0.4932 - accuracy: 0.7640\n",
      "Epoch 79/100\n",
      "623/623 [==============================] - 0s 110us/sample - loss: 0.5075 - accuracy: 0.7544\n",
      "Epoch 80/100\n",
      "623/623 [==============================] - 0s 138us/sample - loss: 0.4855 - accuracy: 0.7721\n",
      "Epoch 81/100\n",
      "623/623 [==============================] - 0s 141us/sample - loss: 0.4837 - accuracy: 0.7689\n",
      "Epoch 82/100\n",
      "623/623 [==============================] - 0s 109us/sample - loss: 0.4828 - accuracy: 0.7769\n",
      "Epoch 83/100\n",
      "623/623 [==============================] - 0s 124us/sample - loss: 0.4811 - accuracy: 0.7769\n",
      "Epoch 84/100\n",
      "623/623 [==============================] - 0s 114us/sample - loss: 0.4809 - accuracy: 0.7689\n",
      "Epoch 85/100\n",
      "623/623 [==============================] - 0s 114us/sample - loss: 0.4739 - accuracy: 0.7833\n",
      "Epoch 86/100\n",
      "623/623 [==============================] - 0s 151us/sample - loss: 0.4759 - accuracy: 0.7737\n",
      "Epoch 87/100\n",
      "623/623 [==============================] - 0s 145us/sample - loss: 0.4842 - accuracy: 0.7705\n",
      "Epoch 88/100\n",
      "623/623 [==============================] - 0s 116us/sample - loss: 0.4831 - accuracy: 0.7785\n",
      "Epoch 89/100\n",
      "623/623 [==============================] - 0s 126us/sample - loss: 0.4740 - accuracy: 0.7737\n",
      "Epoch 90/100\n",
      "623/623 [==============================] - 0s 115us/sample - loss: 0.4750 - accuracy: 0.7785\n",
      "Epoch 91/100\n",
      "623/623 [==============================] - 0s 125us/sample - loss: 0.4753 - accuracy: 0.7801\n",
      "Epoch 92/100\n",
      "623/623 [==============================] - 0s 121us/sample - loss: 0.4791 - accuracy: 0.7801\n",
      "Epoch 93/100\n",
      "623/623 [==============================] - 0s 129us/sample - loss: 0.4797 - accuracy: 0.7833\n",
      "Epoch 94/100\n",
      "623/623 [==============================] - 0s 114us/sample - loss: 0.4705 - accuracy: 0.7881\n",
      "Epoch 95/100\n",
      "623/623 [==============================] - 0s 128us/sample - loss: 0.4761 - accuracy: 0.7801\n",
      "Epoch 96/100\n",
      "623/623 [==============================] - 0s 119us/sample - loss: 0.4700 - accuracy: 0.7785\n",
      "Epoch 97/100\n",
      "623/623 [==============================] - 0s 121us/sample - loss: 0.4676 - accuracy: 0.7785\n",
      "Epoch 98/100\n",
      "623/623 [==============================] - 0s 118us/sample - loss: 0.4662 - accuracy: 0.7881\n",
      "Epoch 99/100\n",
      "623/623 [==============================] - 0s 126us/sample - loss: 0.4665 - accuracy: 0.7849\n",
      "Epoch 100/100\n",
      "623/623 [==============================] - 0s 129us/sample - loss: 0.4753 - accuracy: 0.7897\n"
     ]
    },
    {
     "data": {
      "text/plain": [
       "<tensorflow.python.keras.callbacks.History at 0x7f13f083d4d0>"
      ]
     },
     "execution_count": 120,
     "metadata": {},
     "output_type": "execute_result"
    }
   ],
   "source": [
    "model_deep.fit(X_train.values, y_train.values, epochs=100, batch_size=32, verbose=1)"
   ]
  },
  {
   "cell_type": "code",
   "execution_count": 125,
   "metadata": {
    "ExecuteTime": {
     "end_time": "2020-05-17T14:48:55.614488Z",
     "start_time": "2020-05-17T14:48:55.607917Z"
    }
   },
   "outputs": [
    {
     "name": "stdout",
     "output_type": "stream",
     "text": [
      "Model: \"sequential_17\"\n",
      "_________________________________________________________________\n",
      "Layer (type)                 Output Shape              Param #   \n",
      "=================================================================\n",
      "dense_17 (Dense)             (None, 10)                60        \n",
      "_________________________________________________________________\n",
      "dense_18 (Dense)             (None, 8)                 88        \n",
      "_________________________________________________________________\n",
      "dense_19 (Dense)             (None, 6)                 54        \n",
      "_________________________________________________________________\n",
      "dense_20 (Dense)             (None, 3)                 21        \n",
      "_________________________________________________________________\n",
      "dense_22 (Dense)             (None, 10)                40        \n",
      "_________________________________________________________________\n",
      "dense_23 (Dense)             (None, 8)                 88        \n",
      "_________________________________________________________________\n",
      "dense_24 (Dense)             (None, 6)                 54        \n",
      "_________________________________________________________________\n",
      "dense_25 (Dense)             (None, 3)                 21        \n",
      "_________________________________________________________________\n",
      "dense_26 (Dense)             (None, 1)                 4         \n",
      "=================================================================\n",
      "Total params: 430\n",
      "Trainable params: 430\n",
      "Non-trainable params: 0\n",
      "_________________________________________________________________\n"
     ]
    }
   ],
   "source": [
    "model_deep.summary()"
   ]
  },
  {
   "cell_type": "code",
   "execution_count": null,
   "metadata": {},
   "outputs": [],
   "source": []
  }
 ],
 "metadata": {
  "kernelspec": {
   "display_name": "Python 3",
   "language": "python",
   "name": "python3"
  },
  "language_info": {
   "codemirror_mode": {
    "name": "ipython",
    "version": 3
   },
   "file_extension": ".py",
   "mimetype": "text/x-python",
   "name": "python",
   "nbconvert_exporter": "python",
   "pygments_lexer": "ipython3",
   "version": "3.7.6"
  },
  "latex_envs": {
   "LaTeX_envs_menu_present": true,
   "autoclose": false,
   "autocomplete": true,
   "bibliofile": "biblio.bib",
   "cite_by": "apalike",
   "current_citInitial": 1,
   "eqLabelWithNumbers": true,
   "eqNumInitial": 1,
   "hotkeys": {
    "equation": "Ctrl-E",
    "itemize": "Ctrl-I"
   },
   "labels_anchors": false,
   "latex_user_defs": false,
   "report_style_numbering": false,
   "user_envs_cfg": false
  },
  "toc": {
   "base_numbering": 1,
   "nav_menu": {},
   "number_sections": true,
   "sideBar": true,
   "skip_h1_title": false,
   "title_cell": "Table of Contents",
   "title_sidebar": "Contents",
   "toc_cell": true,
   "toc_position": {},
   "toc_section_display": true,
   "toc_window_display": true
  },
  "varInspector": {
   "cols": {
    "lenName": 16,
    "lenType": 16,
    "lenVar": 40
   },
   "kernels_config": {
    "python": {
     "delete_cmd_postfix": "",
     "delete_cmd_prefix": "del ",
     "library": "var_list.py",
     "varRefreshCmd": "print(var_dic_list())"
    },
    "r": {
     "delete_cmd_postfix": ") ",
     "delete_cmd_prefix": "rm(",
     "library": "var_list.r",
     "varRefreshCmd": "cat(var_dic_list()) "
    }
   },
   "types_to_exclude": [
    "module",
    "function",
    "builtin_function_or_method",
    "instance",
    "_Feature"
   ],
   "window_display": false
  }
 },
 "nbformat": 4,
 "nbformat_minor": 4
}
